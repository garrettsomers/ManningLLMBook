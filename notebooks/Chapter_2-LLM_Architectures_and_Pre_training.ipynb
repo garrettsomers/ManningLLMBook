{
  "cells": [
    {
      "cell_type": "markdown",
      "metadata": {
        "id": "view-in-github",
        "colab_type": "text"
      },
      "source": [
        "<a href=\"https://colab.research.google.com/github/garrettsomers/ManningLLMBook/blob/chapter2/Chapter_2_LLM_Architectures_and_Pre_training.ipynb\" target=\"_parent\"><img src=\"https://colab.research.google.com/assets/colab-badge.svg\" alt=\"Open In Colab\"/></a>"
      ]
    },
    {
      "cell_type": "markdown",
      "metadata": {
        "id": "7p66qIkzd7wz"
      },
      "source": [
        "## Install dependencies\n",
        "\n",
        "Install the HuggingFace Transformers and Datasets libraries to run this notebook. Apache Beam is required to download the data used in the second half of the notebook."
      ]
    },
    {
      "cell_type": "code",
      "execution_count": null,
      "metadata": {
        "id": "zGW64FX-d7wz"
      },
      "outputs": [],
      "source": [
        "!pip install datasets transformers[sentencepiece,torch]\n",
        "!pip install apache_beam"
      ]
    },
    {
      "cell_type": "markdown",
      "source": [
        "In this tutorial, we will explore the mechanics of LLM architectures, with an emphasis on the differences between masked models and causal models. In the first section, we'll examine some existing pretrained models to understand how they produce their outputs. Once we've demonstrated how LLM's are able to do what they do, we will then run an abbreviated training loop to provide a glimpse into the training process.\n",
        "\n",
        "## Understanding Masked LM's\n",
        "\n",
        "The first model we will look at is BERT, which is trained with masked tokens. As an example, the text below masks the word \"box\" from a well-known movie quote."
      ],
      "metadata": {
        "id": "bGc8Si8CBbuI"
      }
    },
    {
      "cell_type": "code",
      "source": [
        "text = \"Life is like a [MASK] of chocolates.\""
      ],
      "metadata": {
        "id": "99o28B2EGVh3"
      },
      "execution_count": null,
      "outputs": []
    },
    {
      "cell_type": "markdown",
      "source": [
        "We'll now see how BERT is able to predict the missing word. We can use HuggingFace to load a copy of the pretrained model and tokenizer."
      ],
      "metadata": {
        "id": "mVREBDyTJKTa"
      }
    },
    {
      "cell_type": "code",
      "source": [
        "from transformers import BertTokenizer, BertForMaskedLM\n",
        "\n",
        "tokenizer = BertTokenizer.from_pretrained('bert-base-uncased')\n",
        "model = BertForMaskedLM.from_pretrained(\"bert-base-uncased\")"
      ],
      "metadata": {
        "id": "ZVii0JgSBKpU"
      },
      "execution_count": null,
      "outputs": []
    },
    {
      "cell_type": "markdown",
      "source": [
        "Next, we'll feed our example text into the tokenizer."
      ],
      "metadata": {
        "id": "YvrlEzCvLUYq"
      }
    },
    {
      "cell_type": "code",
      "source": [
        "encoded_input = tokenizer(text, return_tensors='pt')\n",
        "print('input_ids:', encoded_input['input_ids'])\n",
        "print('attention_mask:', encoded_input['attention_mask'])"
      ],
      "metadata": {
        "id": "TWKpRFEFA2Oz"
      },
      "execution_count": null,
      "outputs": []
    },
    {
      "cell_type": "markdown",
      "source": [
        "The `input_ids` represent the tokenized output. Each integer can be mapped back to the corresponding string as follows."
      ],
      "metadata": {
        "id": "Ra7ABVuDMLTO"
      }
    },
    {
      "cell_type": "code",
      "source": [
        "print(tokenizer.decode([7967]))"
      ],
      "metadata": {
        "id": "o84muqUuLiwC"
      },
      "execution_count": null,
      "outputs": []
    },
    {
      "cell_type": "markdown",
      "source": [
        "The model will then receive the output of the tokenizer. We can look at the BERT model to see exactly how it was constructed and what the outputs will be like."
      ],
      "metadata": {
        "id": "jwyCDN5UNE5z"
      }
    },
    {
      "cell_type": "code",
      "source": [
        "model"
      ],
      "metadata": {
        "id": "1ut5R3IYbxxd"
      },
      "execution_count": null,
      "outputs": []
    },
    {
      "cell_type": "markdown",
      "source": [
        "The model starts with an embedding of each of the 30,522 possible tokens into 768 dimensions, which at this point is simply a representation of each token without any additional information about their relationships to one another in the text. Then the encoder attention blocks are applied, updating the embeddings such that they now encode each token's contribution to the chunk of text and interactions with other tokens. Notably, this includes the masked tokens as well. The final stage is the language model head, which takes the embeddings from the masked positions back to 30,522 dimensions. Each index of this final vector corresponds to the probability that the token in that position would be the correct choice to fill the mask."
      ],
      "metadata": {
        "id": "KnEllq3Xcc67"
      }
    },
    {
      "cell_type": "code",
      "source": [
        "model_output = model(**encoded_input)\n",
        "output = model_output[\"logits\"]\n",
        "\n",
        "print(output.shape)"
      ],
      "metadata": {
        "id": "H-Xv2ujRAch4"
      },
      "execution_count": null,
      "outputs": []
    },
    {
      "cell_type": "code",
      "source": [
        "tokens = encoded_input['input_ids'][0].tolist()\n",
        "masked_index = tokens.index(tokenizer.mask_token_id)\n",
        "logits = output[0, masked_index, :]\n",
        "\n",
        "print(logits.shape)"
      ],
      "metadata": {
        "id": "4hDXB-x5tzrh"
      },
      "execution_count": null,
      "outputs": []
    },
    {
      "cell_type": "code",
      "source": [
        "probs = logits.softmax(dim=-1)\n",
        "values, predictions = probs.topk(5)\n",
        "sequence = tokenizer.decode(predictions)\n",
        "\n",
        "print('Top 5 predictions:', sequence)\n",
        "print(values)"
      ],
      "metadata": {
        "id": "BaRYd_aVjeoR"
      },
      "execution_count": null,
      "outputs": []
    },
    {
      "cell_type": "markdown",
      "source": [
        "Printing the top 5 predictions and their respective scores, we see that BERT accurately chooses \"box\" as the most likely replacement for the mask token.\n",
        "\n",
        "We'll now repeat a similar exercise with GPT-2.\n",
        "\n",
        "## Understanding Causal LM's"
      ],
      "metadata": {
        "id": "1vVQ6Cqhuq9t"
      }
    },
    {
      "cell_type": "code",
      "source": [
        "from transformers import GPT2Tokenizer, GPT2LMHeadModel\n",
        "\n",
        "tokenizer = GPT2Tokenizer.from_pretrained('gpt2')\n",
        "model = GPT2LMHeadModel.from_pretrained('gpt2')"
      ],
      "metadata": {
        "id": "azFAE8TVkPXv"
      },
      "execution_count": null,
      "outputs": []
    },
    {
      "cell_type": "markdown",
      "source": [
        "We can examine the model again, noting the similarities to BERT. An embedding, 12 attention blocks, and a linear transformation bringing the output back to the size of the tokenizer. The tokenizer is different from BERT so we see we have more tokens this time."
      ],
      "metadata": {
        "id": "03DZyj8wlHPy"
      }
    },
    {
      "cell_type": "code",
      "source": [
        "model"
      ],
      "metadata": {
        "id": "4TwmbE0bk1mC"
      },
      "execution_count": null,
      "outputs": []
    },
    {
      "cell_type": "markdown",
      "source": [
        "We'll use a different text example, since this model works by producing tokens sequentially rather than filling a mask."
      ],
      "metadata": {
        "id": "nE8_5EYDmFc3"
      }
    },
    {
      "cell_type": "code",
      "source": [
        "text = \"Swimming at the beach is\"\n",
        "model_inputs = tokenizer(text, return_tensors='pt')\n",
        "model_inputs"
      ],
      "metadata": {
        "id": "hwUCWU6TwTqZ"
      },
      "execution_count": null,
      "outputs": []
    },
    {
      "cell_type": "markdown",
      "source": [
        "After applying the model, the information needed to predict the next token is represented by the last token. So we can access that vector by the index -1."
      ],
      "metadata": {
        "id": "FMvJRBnZmsCN"
      }
    },
    {
      "cell_type": "code",
      "source": [
        "import torch\n",
        "\n",
        "output = model(**model_inputs)\n",
        "next_token_logits = output.logits[:, -1, :]\n",
        "next_token = torch.argmax(next_token_logits, dim=-1)\n",
        "print(next_token)"
      ],
      "metadata": {
        "id": "Ua8YctwekqSm"
      },
      "execution_count": null,
      "outputs": []
    },
    {
      "cell_type": "markdown",
      "source": [
        "Now we need to add the new token to the end of the text, so we can then feed all of it back to the model and continue predicting more tokens."
      ],
      "metadata": {
        "id": "NINYhdECnRFo"
      }
    },
    {
      "cell_type": "code",
      "source": [
        "model_inputs['input_ids'] = torch.cat([model_inputs['input_ids'], next_token[:, None]], dim=-1)\n",
        "model_inputs[\"attention_mask\"] = torch.cat([model_inputs['attention_mask'], torch.tensor([[1]])], dim=-1)\n",
        "print(model_inputs)"
      ],
      "metadata": {
        "id": "OH05O28PnLW9"
      },
      "execution_count": null,
      "outputs": []
    },
    {
      "cell_type": "markdown",
      "source": [
        "Here's what we have so far. The model added the word 'a' to the input text."
      ],
      "metadata": {
        "id": "zwFYORJ0nuAZ"
      }
    },
    {
      "cell_type": "code",
      "source": [
        "print(tokenizer.decode(model_inputs['input_ids'][0]))"
      ],
      "metadata": {
        "id": "-ja9Mk0DnpBe"
      },
      "execution_count": null,
      "outputs": []
    },
    {
      "cell_type": "markdown",
      "source": [
        "Repeating all the previous steps, we then add the word 'great'."
      ],
      "metadata": {
        "id": "MaTRI-hMn9p4"
      }
    },
    {
      "cell_type": "code",
      "source": [
        "output = model(**model_inputs)\n",
        "next_token_logits = output.logits[:, -1, :]\n",
        "next_token = torch.argmax(next_token_logits, dim=-1)\n",
        "model_inputs['input_ids'] = torch.cat([model_inputs['input_ids'], next_token[:, None]], dim=-1)\n",
        "model_inputs[\"attention_mask\"] = torch.cat([model_inputs['attention_mask'], torch.tensor([[1]])], dim=-1)\n",
        "print(tokenizer.decode(model_inputs['input_ids'][0]))"
      ],
      "metadata": {
        "id": "n-ygamSIoMKh"
      },
      "execution_count": null,
      "outputs": []
    },
    {
      "cell_type": "markdown",
      "source": [
        "Of course, we don't actually have to write out all these steps. HuggingFace makes text generation much more convenient. We'll use the quicker approach to finish our sentence."
      ],
      "metadata": {
        "id": "qtUuh3A9oul2"
      }
    },
    {
      "cell_type": "code",
      "source": [
        "output_generate = model.generate(**model_inputs, max_length=20, pad_token_id=tokenizer.eos_token_id)\n",
        "print(tokenizer.decode(output_generate[0]))"
      ],
      "metadata": {
        "id": "z9QIw--gIrh8"
      },
      "execution_count": null,
      "outputs": []
    },
    {
      "cell_type": "markdown",
      "source": [
        "## Pre-training a GPT-2 model from scratch\n",
        "\n",
        "Next we'll train a GPT-2 model from scratch using English Wikipedia data. Note that we're only using a tiny subset of the data to demonstrate that the model is capable of learning. The exact same approach could be followed on the full dataset to train a more functional model, but that would require a lot of compute."
      ],
      "metadata": {
        "id": "XL2rmSMVpkEu"
      }
    },
    {
      "cell_type": "code",
      "execution_count": null,
      "metadata": {
        "id": "QTW0UmOJd7w2"
      },
      "outputs": [],
      "source": [
        "from datasets import load_dataset, DatasetDict\n",
        "\n",
        "dataset = load_dataset(\"wikipedia\", \"20220301.en\")\n",
        "ds_shuffle = dataset['train'].shuffle()\n",
        "\n",
        "raw_datasets = DatasetDict(\n",
        "    {\n",
        "        \"train\": ds_shuffle.select(range(50)),\n",
        "        \"valid\": ds_shuffle.select(range(50, 100))\n",
        "    }\n",
        ")\n",
        "\n",
        "raw_datasets"
      ]
    },
    {
      "cell_type": "code",
      "execution_count": null,
      "metadata": {
        "id": "-qbgOvH3d7w2"
      },
      "outputs": [],
      "source": [
        "print(raw_datasets['train'][0]['text'][:200])"
      ]
    },
    {
      "cell_type": "markdown",
      "source": [
        "We'll tokenize the text, setting the context size to 128 and thus breaking each document into chunks of 128 tokens."
      ],
      "metadata": {
        "id": "WOAQpfgHXfyt"
      }
    },
    {
      "cell_type": "code",
      "execution_count": null,
      "metadata": {
        "id": "-HRmdiqbd7w3"
      },
      "outputs": [],
      "source": [
        "from transformers import AutoTokenizer\n",
        "\n",
        "context_length = 128\n",
        "tokenizer = AutoTokenizer.from_pretrained(\"gpt2\")\n",
        "\n",
        "outputs = tokenizer(\n",
        "    raw_datasets[\"train\"][:2][\"text\"],\n",
        "    truncation=True,\n",
        "    max_length=context_length,\n",
        "    return_overflowing_tokens=True,\n",
        "    return_length=True,\n",
        ")\n",
        "\n",
        "print(f\"Input IDs length: {len(outputs['input_ids'])}\")\n",
        "print(f\"Input chunk lengths: {(outputs['length'])}\")\n",
        "print(f\"Chunk mapping: {outputs['overflow_to_sample_mapping']}\")"
      ]
    },
    {
      "cell_type": "code",
      "execution_count": null,
      "metadata": {
        "id": "iWvoQ3-td7w3"
      },
      "outputs": [],
      "source": [
        "def tokenize(element):\n",
        "    outputs = tokenizer(\n",
        "        element[\"text\"],\n",
        "        truncation=True,\n",
        "        max_length=context_length,\n",
        "        return_overflowing_tokens=True,\n",
        "        return_length=True,\n",
        "    )\n",
        "    input_batch = []\n",
        "    for length, input_ids in zip(outputs[\"length\"], outputs[\"input_ids\"]):\n",
        "        if length == context_length:\n",
        "            input_batch.append(input_ids)\n",
        "    return {\"input_ids\": input_batch}\n",
        "\n",
        "\n",
        "tokenized_datasets = raw_datasets.map(\n",
        "    tokenize, batched=True, remove_columns=raw_datasets[\"train\"].column_names\n",
        ")\n",
        "tokenized_datasets"
      ]
    },
    {
      "cell_type": "markdown",
      "source": [
        "Now we can set up the HuggingFace Trainer as follows. Since we're using such a small dataset, we'll need lots of epochs for the model to make progress because all of the parameters are randomly initialized at the outset. Typically, most LLM's are trained for only one epoch and more diverse examples."
      ],
      "metadata": {
        "id": "zfu1oJeQYiLa"
      }
    },
    {
      "cell_type": "code",
      "execution_count": null,
      "metadata": {
        "id": "7jf0Le4Yd7w3"
      },
      "outputs": [],
      "source": [
        "from transformers import GPT2LMHeadModel, AutoConfig\n",
        "\n",
        "config = AutoConfig.from_pretrained(\n",
        "    \"gpt2\",\n",
        "    vocab_size=len(tokenizer),\n",
        "    n_ctx=context_length,\n",
        "    bos_token_id=tokenizer.bos_token_id,\n",
        "    eos_token_id=tokenizer.eos_token_id,\n",
        ")\n",
        "\n",
        "model = GPT2LMHeadModel(config)"
      ]
    },
    {
      "cell_type": "code",
      "execution_count": null,
      "metadata": {
        "id": "O_OKDaPMd7w3"
      },
      "outputs": [],
      "source": [
        "from transformers import DataCollatorForLanguageModeling\n",
        "\n",
        "tokenizer.pad_token = tokenizer.eos_token\n",
        "data_collator = DataCollatorForLanguageModeling(tokenizer, mlm=False)"
      ]
    },
    {
      "cell_type": "code",
      "execution_count": null,
      "metadata": {
        "id": "Ex3MHkued7w4"
      },
      "outputs": [],
      "source": [
        "from transformers import Trainer, TrainingArguments\n",
        "\n",
        "args = TrainingArguments(\n",
        "    output_dir=\"wiki-gpt2\",\n",
        "    evaluation_strategy=\"steps\",\n",
        "    num_train_epochs=100\n",
        ")\n",
        "\n",
        "trainer = Trainer(\n",
        "    model=model,\n",
        "    tokenizer=tokenizer,\n",
        "    args=args,\n",
        "    data_collator=data_collator,\n",
        "    train_dataset=tokenized_datasets[\"train\"],\n",
        "    eval_dataset=tokenized_datasets[\"valid\"]\n",
        ")"
      ]
    },
    {
      "cell_type": "code",
      "execution_count": null,
      "metadata": {
        "id": "WIj0n1fbd7w4"
      },
      "outputs": [],
      "source": [
        "trainer.train()"
      ]
    },
    {
      "cell_type": "code",
      "source": [
        "trainer.evaluate()"
      ],
      "metadata": {
        "id": "S2avxzYR5U8Y"
      },
      "execution_count": null,
      "outputs": []
    },
    {
      "cell_type": "markdown",
      "source": [
        "The training loss is low by the end, which means the model should perform very well on training examples it has seen. It does not generalize well to the validation set of course, since we deliberately overfit on a small train set.\n",
        "\n",
        "We can confirm with a couple of examples that were seen in training."
      ],
      "metadata": {
        "id": "UIkCLEFRc3h6"
      }
    },
    {
      "cell_type": "code",
      "source": [
        "text = tokenizer.decode(tokenized_datasets[\"train\"][0]['input_ids'][:16])\n",
        "print(text)"
      ],
      "metadata": {
        "id": "x-cxmRLLsGgB"
      },
      "execution_count": null,
      "outputs": []
    },
    {
      "cell_type": "code",
      "source": [
        "model_inputs = tokenizer(text, return_tensors='pt')\n",
        "print(model_inputs['input_ids'].shape)"
      ],
      "metadata": {
        "id": "bbk_WBhMrj_F"
      },
      "execution_count": null,
      "outputs": []
    },
    {
      "cell_type": "code",
      "source": [
        "import torch\n",
        "\n",
        "device = torch.device(\"cuda\") if torch.cuda.is_available() else torch.device(\"cpu\")\n",
        "model_inputs['input_ids'] = model_inputs['input_ids'].to(device)\n",
        "model_inputs['attention_mask'] = model_inputs['attention_mask'].to(device)\n",
        "\n",
        "output_generate = model.generate(**model_inputs, max_new_tokens=16)\n",
        "output_generate"
      ],
      "metadata": {
        "id": "ipgkkqn4sEAp"
      },
      "execution_count": null,
      "outputs": []
    },
    {
      "cell_type": "code",
      "source": [
        "sequence = tokenizer.decode(output_generate[0])\n",
        "print(sequence)"
      ],
      "metadata": {
        "id": "JHUbsd-hxdTL"
      },
      "execution_count": null,
      "outputs": []
    },
    {
      "cell_type": "markdown",
      "source": [
        "The model should do quite well at reciting text after seeing it so many times. We can be convinced that the tokenizer, model architecture, and training objective are well-suited to learning Wikipedia data. For comparison, we'll try this model on text from the validation set."
      ],
      "metadata": {
        "id": "l04YrQLeghA5"
      }
    },
    {
      "cell_type": "code",
      "source": [
        "text = tokenizer.decode(tokenized_datasets[\"valid\"][0]['input_ids'][:32])\n",
        "print(text)"
      ],
      "metadata": {
        "id": "MFK5FC57hwS9"
      },
      "execution_count": null,
      "outputs": []
    },
    {
      "cell_type": "code",
      "source": [
        "model_inputs = tokenizer(text, return_tensors='pt')\n",
        "\n",
        "device = torch.device(\"cuda\") if torch.cuda.is_available() else torch.device(\"cpu\")\n",
        "model_inputs['input_ids'] = model_inputs['input_ids'].to(device)\n",
        "model_inputs['attention_mask'] = model_inputs['attention_mask'].to(device)\n",
        "\n",
        "output_generate = model.generate(**model_inputs, max_new_tokens=16)\n",
        "sequence = tokenizer.decode(output_generate[0])\n",
        "print(sequence)"
      ],
      "metadata": {
        "id": "-SlX_sfHfdTB"
      },
      "execution_count": null,
      "outputs": []
    },
    {
      "cell_type": "code",
      "source": [
        "raw_datasets['valid'][0]['text']"
      ],
      "metadata": {
        "id": "FassINSdfs9U"
      },
      "execution_count": null,
      "outputs": []
    },
    {
      "cell_type": "markdown",
      "source": [
        "As expected, our model is completely confused this time. We'd need to train for much longer, and on much more diverse data, before we would have a model that can sensibly complete prompts it has never seen before. This is precisely why pre-training is such an important and powerful technique. If we had to train on all of Wikipedia for every NLP application to achieve optimal performance, it would be prohibitively expensive. But there's no need to do that when we can share and reuse existing pre-trained models as we did in the first part of this tutorial."
      ],
      "metadata": {
        "id": "4ivQP0XciLl1"
      }
    },
    {
      "cell_type": "code",
      "source": [],
      "metadata": {
        "id": "rIPBV6nZiFd8"
      },
      "execution_count": null,
      "outputs": []
    }
  ],
  "metadata": {
    "colab": {
      "provenance": [],
      "machine_shape": "hm",
      "gpuType": "V100",
      "include_colab_link": true
    },
    "kernelspec": {
      "display_name": "Python 3",
      "name": "python3"
    },
    "language_info": {
      "name": "python"
    },
    "accelerator": "GPU"
  },
  "nbformat": 4,
  "nbformat_minor": 0
}