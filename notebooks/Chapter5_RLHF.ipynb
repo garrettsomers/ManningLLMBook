{
  "cells": [
    {
      "cell_type": "markdown",
      "metadata": {
        "id": "view-in-github",
        "colab_type": "text"
      },
      "source": [
        "<a href=\"https://colab.research.google.com/github/garrettsomers/ManningLLMBook/blob/chapter5/notebooks/Chapter5_RLHF.ipynb\" target=\"_parent\"><img src=\"https://colab.research.google.com/assets/colab-badge.svg\" alt=\"Open In Colab\"/></a>"
      ]
    },
    {
      "cell_type": "markdown",
      "metadata": {
        "id": "DhMzaJdrAJNL"
      },
      "source": [
        "# Using RLHF to generate more helpful responses\n"
      ]
    },
    {
      "cell_type": "markdown",
      "metadata": {
        "id": "ojtFAATwAWsO"
      },
      "source": [
        "In this tutorial, we will demonstrate how Reinforcement Learning with Human Feedback (RLHF) can be used to fine-tune a generative language model. We use a set of prompts that reflect various ways that a human might potentially interact with a chatbot, along with a separate reward model that rates the quality of the generated answers. The reward model outputs are then used to update the weights of the LM through the PPO algorithm. The end result is an updated version of the LM that has been optimized to receive consistently higher returns from the reward model.\n",
        "\n",
        "The methods outlined here are a reflection of key advancements that brought generative AI into the mainstream and stimulated a massive wave of investment. Before RLHF came into prominence with results such as InstructGPT, state-of-the-art LLM's were capable of producing realistic prompt answers with appropriate grammatical usage and accurate factual knowledge. However, these responses often were not well-suited for addressing a problem or completing a task in a useful manner. With the addition of RLHF, LLM's have gained the ability to align their outputs more closely to the intentions of their users. This has opened the door to many new applications that require more human-like interactions than chatbots and virtual assistants were previously capable of. It has also become a major contributor to the latest efforts in AI safety. \\cite{bai2022training} did extensive work toward the ideal of \"helpful, honest, and harmless\" LLM interactions developed through RLHF.\n",
        "\n",
        "Since RLHF is a very expensive process, in terms of human effort as well as compute resources, the experiment provided in this tutorial follows a much shorter and simpler training process than what would be required to see truly impressive results. But even this small-scale exercise is sufficient to demonstrate how these techniques have been very effective when employed at a much larger scale.\n"
      ]
    },
    {
      "cell_type": "markdown",
      "metadata": {
        "id": "ECQ0p6m-Bpmi"
      },
      "source": [
        "### Setup environment"
      ]
    },
    {
      "cell_type": "code",
      "execution_count": null,
      "metadata": {
        "colab": {
          "base_uri": "https://localhost:8080/"
        },
        "id": "oqozdET2AB3w",
        "outputId": "9607771d-a357-4ee6-a08b-bd1ef4f26a76"
      },
      "outputs": [
        {
          "output_type": "stream",
          "name": "stdout",
          "text": [
            "Requirement already satisfied: transformers in /usr/local/lib/python3.10/dist-packages (4.30.2)\n",
            "Requirement already satisfied: trl in /usr/local/lib/python3.10/dist-packages (0.4.6)\n",
            "Requirement already satisfied: evaluate in /usr/local/lib/python3.10/dist-packages (0.4.0)\n",
            "Requirement already satisfied: filelock in /usr/local/lib/python3.10/dist-packages (from transformers) (3.12.2)\n",
            "Requirement already satisfied: huggingface-hub<1.0,>=0.14.1 in /usr/local/lib/python3.10/dist-packages (from transformers) (0.16.2)\n",
            "Requirement already satisfied: numpy>=1.17 in /usr/local/lib/python3.10/dist-packages (from transformers) (1.22.4)\n",
            "Requirement already satisfied: packaging>=20.0 in /usr/local/lib/python3.10/dist-packages (from transformers) (23.1)\n",
            "Requirement already satisfied: pyyaml>=5.1 in /usr/local/lib/python3.10/dist-packages (from transformers) (6.0)\n",
            "Requirement already satisfied: regex!=2019.12.17 in /usr/local/lib/python3.10/dist-packages (from transformers) (2022.10.31)\n",
            "Requirement already satisfied: requests in /usr/local/lib/python3.10/dist-packages (from transformers) (2.27.1)\n",
            "Requirement already satisfied: tokenizers!=0.11.3,<0.14,>=0.11.1 in /usr/local/lib/python3.10/dist-packages (from transformers) (0.13.3)\n",
            "Requirement already satisfied: safetensors>=0.3.1 in /usr/local/lib/python3.10/dist-packages (from transformers) (0.3.1)\n",
            "Requirement already satisfied: tqdm>=4.27 in /usr/local/lib/python3.10/dist-packages (from transformers) (4.65.0)\n",
            "Requirement already satisfied: torch>=1.4.0 in /usr/local/lib/python3.10/dist-packages (from trl) (2.0.1+cu118)\n",
            "Requirement already satisfied: accelerate in /usr/local/lib/python3.10/dist-packages (from trl) (0.20.3)\n",
            "Requirement already satisfied: datasets in /usr/local/lib/python3.10/dist-packages (from trl) (2.13.1)\n",
            "Requirement already satisfied: dill in /usr/local/lib/python3.10/dist-packages (from evaluate) (0.3.6)\n",
            "Requirement already satisfied: pandas in /usr/local/lib/python3.10/dist-packages (from evaluate) (1.5.3)\n",
            "Requirement already satisfied: xxhash in /usr/local/lib/python3.10/dist-packages (from evaluate) (3.2.0)\n",
            "Requirement already satisfied: multiprocess in /usr/local/lib/python3.10/dist-packages (from evaluate) (0.70.14)\n",
            "Requirement already satisfied: fsspec[http]>=2021.05.0 in /usr/local/lib/python3.10/dist-packages (from evaluate) (2023.6.0)\n",
            "Requirement already satisfied: responses<0.19 in /usr/local/lib/python3.10/dist-packages (from evaluate) (0.18.0)\n",
            "Requirement already satisfied: pyarrow>=8.0.0 in /usr/local/lib/python3.10/dist-packages (from datasets->trl) (9.0.0)\n",
            "Requirement already satisfied: aiohttp in /usr/local/lib/python3.10/dist-packages (from datasets->trl) (3.8.4)\n",
            "Requirement already satisfied: typing-extensions>=3.7.4.3 in /usr/local/lib/python3.10/dist-packages (from huggingface-hub<1.0,>=0.14.1->transformers) (4.6.3)\n",
            "Requirement already satisfied: urllib3<1.27,>=1.21.1 in /usr/local/lib/python3.10/dist-packages (from requests->transformers) (1.26.16)\n",
            "Requirement already satisfied: certifi>=2017.4.17 in /usr/local/lib/python3.10/dist-packages (from requests->transformers) (2023.5.7)\n",
            "Requirement already satisfied: charset-normalizer~=2.0.0 in /usr/local/lib/python3.10/dist-packages (from requests->transformers) (2.0.12)\n",
            "Requirement already satisfied: idna<4,>=2.5 in /usr/local/lib/python3.10/dist-packages (from requests->transformers) (3.4)\n",
            "Requirement already satisfied: sympy in /usr/local/lib/python3.10/dist-packages (from torch>=1.4.0->trl) (1.11.1)\n",
            "Requirement already satisfied: networkx in /usr/local/lib/python3.10/dist-packages (from torch>=1.4.0->trl) (3.1)\n",
            "Requirement already satisfied: jinja2 in /usr/local/lib/python3.10/dist-packages (from torch>=1.4.0->trl) (3.1.2)\n",
            "Requirement already satisfied: triton==2.0.0 in /usr/local/lib/python3.10/dist-packages (from torch>=1.4.0->trl) (2.0.0)\n",
            "Requirement already satisfied: cmake in /usr/local/lib/python3.10/dist-packages (from triton==2.0.0->torch>=1.4.0->trl) (3.25.2)\n",
            "Requirement already satisfied: lit in /usr/local/lib/python3.10/dist-packages (from triton==2.0.0->torch>=1.4.0->trl) (16.0.6)\n",
            "Requirement already satisfied: psutil in /usr/local/lib/python3.10/dist-packages (from accelerate->trl) (5.9.5)\n",
            "Requirement already satisfied: python-dateutil>=2.8.1 in /usr/local/lib/python3.10/dist-packages (from pandas->evaluate) (2.8.2)\n",
            "Requirement already satisfied: pytz>=2020.1 in /usr/local/lib/python3.10/dist-packages (from pandas->evaluate) (2022.7.1)\n",
            "Requirement already satisfied: attrs>=17.3.0 in /usr/local/lib/python3.10/dist-packages (from aiohttp->datasets->trl) (23.1.0)\n",
            "Requirement already satisfied: multidict<7.0,>=4.5 in /usr/local/lib/python3.10/dist-packages (from aiohttp->datasets->trl) (6.0.4)\n",
            "Requirement already satisfied: async-timeout<5.0,>=4.0.0a3 in /usr/local/lib/python3.10/dist-packages (from aiohttp->datasets->trl) (4.0.2)\n",
            "Requirement already satisfied: yarl<2.0,>=1.0 in /usr/local/lib/python3.10/dist-packages (from aiohttp->datasets->trl) (1.9.2)\n",
            "Requirement already satisfied: frozenlist>=1.1.1 in /usr/local/lib/python3.10/dist-packages (from aiohttp->datasets->trl) (1.3.3)\n",
            "Requirement already satisfied: aiosignal>=1.1.2 in /usr/local/lib/python3.10/dist-packages (from aiohttp->datasets->trl) (1.3.1)\n",
            "Requirement already satisfied: six>=1.5 in /usr/local/lib/python3.10/dist-packages (from python-dateutil>=2.8.1->pandas->evaluate) (1.16.0)\n",
            "Requirement already satisfied: MarkupSafe>=2.0 in /usr/local/lib/python3.10/dist-packages (from jinja2->torch>=1.4.0->trl) (2.1.3)\n",
            "Requirement already satisfied: mpmath>=0.19 in /usr/local/lib/python3.10/dist-packages (from sympy->torch>=1.4.0->trl) (1.3.0)\n"
          ]
        }
      ],
      "source": [
        "%load_ext autoreload\n",
        "%autoreload 2\n",
        "\n",
        "%pip install transformers trl evaluate"
      ]
    },
    {
      "cell_type": "code",
      "execution_count": null,
      "metadata": {
        "colab": {
          "base_uri": "https://localhost:8080/",
          "height": 359,
          "referenced_widgets": [
            "85eb7ff40f774151bb9bed98334cc852",
            "0621c6803efb43588849fa80d62dd71c",
            "04cc5d5ef59e446b98ebb5880ebf10dd",
            "24b705307f0c4d02b3c6e694b173fe51",
            "ae8fa1a6e68e4479b7fdf4453c31f52d",
            "6d78023ed92245859a56455dd9469d99",
            "a3840bc7030643ed83df41307cddd7cf",
            "9ea8e56852be47edb337d87db2fa6494",
            "1a77fc100a7a49d3a2af18446f6e800f",
            "010f0b8bdfb44af2a9c652ebf6462eea",
            "fddf45ac86714d2389096680f668170b",
            "2d0f4b64bf784aa28de269b8cad77d74",
            "571651d20243438694d1f4560d9c3061",
            "b12dbb76de124379bb15bec8b0c45a60",
            "0ada111d32694124ace396833c08e0a2",
            "96a3357e4fde417f933c3e7deee3f890",
            "ebc75dc8c34340888d182735ec080a45"
          ]
        },
        "id": "eHulaxNna0Hi",
        "outputId": "a4055b9a-edc6-4126-d7c2-d5396e8e542b"
      },
      "outputs": [
        {
          "output_type": "display_data",
          "data": {
            "text/plain": [
              "VBox(children=(HTML(value='<center> <img\\nsrc=https://huggingface.co/front/assets/huggingface_logo-noborder.sv…"
            ],
            "application/vnd.jupyter.widget-view+json": {
              "version_major": 2,
              "version_minor": 0,
              "model_id": "85eb7ff40f774151bb9bed98334cc852"
            }
          },
          "metadata": {}
        }
      ],
      "source": [
        "from huggingface_hub import notebook_login\n",
        "\n",
        "notebook_login()"
      ]
    },
    {
      "cell_type": "markdown",
      "metadata": {
        "id": "L-ejEb7MBGSr"
      },
      "source": [
        "### Import dependencies"
      ]
    },
    {
      "cell_type": "code",
      "execution_count": null,
      "metadata": {
        "id": "QrD4A70eBvg7"
      },
      "outputs": [],
      "source": [
        "import torch\n",
        "from tqdm import tqdm\n",
        "import pandas as pd\n",
        "import matplotlib.pyplot as plt\n",
        "from io import BytesIO\n",
        "from IPython.display import Image, display_png, clear_output\n",
        "import numpy as np\n",
        "\n",
        "tqdm.pandas()\n",
        "\n",
        "from transformers import pipeline, AutoTokenizer\n",
        "from datasets import load_dataset\n",
        "\n",
        "from trl import PPOTrainer, PPOConfig, AutoModelForCausalLMWithValueHead\n",
        "from trl.core import LengthSampler"
      ]
    },
    {
      "cell_type": "markdown",
      "metadata": {
        "id": "xVOpo-6HfgQ6"
      },
      "source": [
        "### Configuration"
      ]
    },
    {
      "cell_type": "code",
      "execution_count": null,
      "metadata": {
        "id": "IAzgwZfPfRqt"
      },
      "outputs": [],
      "source": [
        "config = PPOConfig(\n",
        "    model_name=\"aisquared/dlite-v1-355m\",\n",
        "    batch_size=16\n",
        ")\n"
      ]
    },
    {
      "cell_type": "markdown",
      "metadata": {
        "id": "NA8MHUoDhRKH"
      },
      "source": [
        "### Load data\n",
        "\n",
        "The dataset used in this tutorial was made available by Anthropic (with the paper - need to reread and describe in more detail). It consists of manually written prompts representing human inputs, with two possible answers coming from a virtual assistant. The two answers have been reviewed by humans, and in each case one was chosen as being more helpful than the other.\n",
        "\n",
        "For our purposes, we will not be training our own reward model. Instead we will extract the prompts from the text and use them in the RL training loop. Repurposing this data allows us to sidestep the very expensive and difficult initial step of prompt creation. Organizations such as OpenAI generally have two main sources for these types of prompts:\n",
        "- High-skill contractors who carefully craft prompts and answers, which the model can use to learn how to emulate what a human response looks like.\n",
        "- Online data, meaning that queries submitted by users to an existing model are captured. In some cases, those users may also have the option of indicating whether or not they like the response, which can be even more beneficial to the RLHF fine-tuning process."
      ]
    },
    {
      "cell_type": "code",
      "execution_count": null,
      "metadata": {
        "colab": {
          "base_uri": "https://localhost:8080/"
        },
        "id": "buwTXIGvhTxT",
        "outputId": "f31f65d4-55f2-44a5-84e0-ce70f08e03ac"
      },
      "outputs": [
        {
          "output_type": "stream",
          "name": "stderr",
          "text": [
            "WARNING:datasets.builder:Found cached dataset json (/root/.cache/huggingface/datasets/Anthropic___json/Anthropic--hh-rlhf-37c6f75e35564d2a/0.0.0/8bb11242116d547c741b2e8a1f18598ffdd40a1d4f2a2872c7a28b697434bc96)\n"
          ]
        },
        {
          "output_type": "stream",
          "name": "stdout",
          "text": [
            "Dataset({\n",
            "    features: ['chosen', 'rejected'],\n",
            "    num_rows: 43835\n",
            "})\n"
          ]
        },
        {
          "output_type": "stream",
          "name": "stderr",
          "text": [
            "WARNING:datasets.arrow_dataset:Loading cached processed dataset at /root/.cache/huggingface/datasets/Anthropic___json/Anthropic--hh-rlhf-37c6f75e35564d2a/0.0.0/8bb11242116d547c741b2e8a1f18598ffdd40a1d4f2a2872c7a28b697434bc96/cache-ffa90c017cf89d62.arrow\n"
          ]
        },
        {
          "output_type": "stream",
          "name": "stdout",
          "text": [
            "['Hi, I want to learn to play horseshoes. Can you teach me?', 'How do I teach kids to meditate?']\n"
          ]
        }
      ],
      "source": [
        "ds = load_dataset(\"Anthropic/hh-rlhf\", data_dir=\"helpful-base\", split=\"train\")\n",
        "print(ds)\n",
        "\n",
        "# create prompts by chopping off the Assistant response in the dataset\n",
        "new_col = [x[len(\"\\n\\nHuman: \"):x.find(\"Assistant:\")]\n",
        "           for x in ds[\"chosen\"]]\n",
        "new_col = [x.replace(\"\\n\", \" \").strip() for x in new_col]\n",
        "ds = ds.add_column(\"instruction\", new_col)\n",
        "ds = ds.filter(lambda x: len(x[\"instruction\"]) < 100)\n",
        "ds = ds.select(range(6400))\n",
        "\n",
        "examples = ds.select((0, 1))\n",
        "print(examples[\"instruction\"])"
      ]
    },
    {
      "cell_type": "markdown",
      "source": [
        "The DLite model uses special tokens, so we will need to format our prompts accordingly."
      ],
      "metadata": {
        "id": "oPNNepERGJqb"
      }
    },
    {
      "cell_type": "code",
      "execution_count": null,
      "metadata": {
        "id": "q-lyMzpRgre3"
      },
      "outputs": [],
      "source": [
        "INSTRUCTION_KEY = \"### Instruction:\"\n",
        "RESPONSE_KEY = \"### Response:\"\n",
        "END_KEY = \"### End\"\n",
        "INTRO_BLURB = (\n",
        "    \"Below is an instruction that describes a task. Write a response that appropriately completes the request.\"\n",
        ")\n",
        "\n",
        "# This is the prompt that is used for generating responses using an already trained model.  It ends with the response\n",
        "# key, where the job of the model is to provide the completion that follows it (i.e. the response itself).\n",
        "PROMPT_FOR_GENERATION_FORMAT = \"\"\"{intro}\n",
        "{instruction_key}\n",
        "{instruction}\n",
        "{response_key}\n",
        "\"\"\".format(\n",
        "    intro='',\n",
        "    instruction_key=INSTRUCTION_KEY,\n",
        "    instruction=\"{instruction}\",\n",
        "    response_key=RESPONSE_KEY,\n",
        ")"
      ]
    },
    {
      "cell_type": "code",
      "execution_count": null,
      "metadata": {
        "colab": {
          "base_uri": "https://localhost:8080/"
        },
        "id": "I_gXGPX7n_G3",
        "outputId": "5520a631-1fcc-4212-e57e-ae54c7e4bbd0"
      },
      "outputs": [
        {
          "output_type": "stream",
          "name": "stderr",
          "text": [
            "WARNING:datasets.arrow_dataset:Loading cached processed dataset at /root/.cache/huggingface/datasets/Anthropic___json/Anthropic--hh-rlhf-37c6f75e35564d2a/0.0.0/8bb11242116d547c741b2e8a1f18598ffdd40a1d4f2a2872c7a28b697434bc96/cache-99d2b7324fb89dae.arrow\n"
          ]
        },
        {
          "output_type": "execute_result",
          "data": {
            "text/plain": [
              "['\\n### Instruction:\\nHi, I want to learn to play horseshoes. Can you teach me?\\n### Response:\\n',\n",
              " '\\n### Instruction:\\nHow do I teach kids to meditate?\\n### Response:\\n']"
            ]
          },
          "metadata": {},
          "execution_count": 8
        }
      ],
      "source": [
        "ds = ds.add_column('query', [PROMPT_FOR_GENERATION_FORMAT.format(instruction=i) for i in ds['instruction']])\n",
        "ds.select((0, 1))['query']"
      ]
    },
    {
      "cell_type": "markdown",
      "metadata": {
        "id": "Cr_7kcnNGvBl"
      },
      "source": [
        "### Supervised fine-tuning\n",
        "\n",
        "Supervised fine-tuning (SFT) is another step that we are skipping. Technically this is not requisite for reinforcement learning, but it is often done to precondition the model prior to the actual RL training process. In this step, we would directly use the human-written responses described above to fine-tune the model in the direction of more human-like text generation.\n",
        "\n",
        "This is usually considered to be an optional step, mostly because it necessitates a great deal of manual effort that is only accessible in large tech companies with massive AI budgets. It's much less expensive to have the model produce all of the answers and only use humans to perform the much simpler task of ranking the quality of the outputs. This in fact is the next step in the RLHF process, regardless of whether or not SFT is performed."
      ]
    },
    {
      "cell_type": "markdown",
      "metadata": {
        "id": "4Hw_ToLFisun"
      },
      "source": [
        "### Tokenize"
      ]
    },
    {
      "cell_type": "code",
      "execution_count": null,
      "metadata": {
        "colab": {
          "base_uri": "https://localhost:8080/"
        },
        "id": "R5l8v4QWiuLO",
        "outputId": "0b14f93a-72f3-4efa-9882-ff3aa4c54002"
      },
      "outputs": [
        {
          "output_type": "stream",
          "name": "stderr",
          "text": [
            "WARNING:datasets.arrow_dataset:Loading cached processed dataset at /root/.cache/huggingface/datasets/Anthropic___json/Anthropic--hh-rlhf-37c6f75e35564d2a/0.0.0/8bb11242116d547c741b2e8a1f18598ffdd40a1d4f2a2872c7a28b697434bc96/cache-f153274f9e24bd4c.arrow\n"
          ]
        },
        {
          "output_type": "execute_result",
          "data": {
            "text/plain": [
              "(6400, 5)"
            ]
          },
          "metadata": {},
          "execution_count": 9
        }
      ],
      "source": [
        "tokenizer = AutoTokenizer.from_pretrained(config.model_name)\n",
        "tokenizer.pad_token = tokenizer.eos_token\n",
        "\n",
        "def tokenize(sample):\n",
        "    sample[\"input_ids\"] = tokenizer.encode(sample[\"query\"])\n",
        "    sample[\"query\"] = sample['instruction']\n",
        "    return sample\n",
        "\n",
        "dataset = ds.map(tokenize, batched=False)\n",
        "dataset.set_format(type=\"torch\")\n",
        "dataset.shape"
      ]
    },
    {
      "cell_type": "markdown",
      "metadata": {
        "id": "RKEIVALfkCuP"
      },
      "source": [
        "### Load pre-trained DLite model\n",
        "\n",
        "The RLHF process begins with an existing pre-trained model. Here we are using DLite, since it is relatively small and can be fine-tuned with limited GPU usage. A larger model would generate significantly better responses, but the reinforcement learning mechanics still operate in much the same way."
      ]
    },
    {
      "cell_type": "code",
      "execution_count": null,
      "metadata": {
        "id": "CErOKXhVkYVI"
      },
      "outputs": [],
      "source": [
        "model = AutoModelForCausalLMWithValueHead.from_pretrained(config.model_name)\n",
        "ref_model = AutoModelForCausalLMWithValueHead.from_pretrained(config.model_name)"
      ]
    },
    {
      "cell_type": "markdown",
      "metadata": {
        "id": "J7jhaydfllzO"
      },
      "source": [
        "### Load reward model\n",
        "\n",
        "The next step is training a reward model. The reward model's objective is to score a given prompt/answer pair according to how favorably a human would judge the answer. To train this model, we could use a dataset very similar to the one already described. In some cases, rather than only having two answers to compare, the original LLM is instead asked to produce several possible answers. Human annotators must then rank them from best to worst, very much like what is represented as the \"chosen\" and \"rejected\" columns in the Anthropic dataset. This data is then used to train the reward model.\n",
        "\n",
        "For this tutorial, we'll avoid spending time training a reward model and simply download a popular one from HuggingFace."
      ]
    },
    {
      "cell_type": "code",
      "execution_count": null,
      "metadata": {
        "colab": {
          "base_uri": "https://localhost:8080/"
        },
        "id": "-Y-1ITQWoXag",
        "outputId": "d299c1ae-12bd-404e-9500-9d03b91d713b"
      },
      "outputs": [
        {
          "output_type": "stream",
          "name": "stdout",
          "text": [
            "tensor([-2.0916]) tensor([-3.8319])\n"
          ]
        }
      ],
      "source": [
        "from transformers import AutoModelForSequenceClassification, AutoTokenizer\n",
        "\n",
        "reward_name = \"OpenAssistant/reward-model-deberta-v3-large-v2\"\n",
        "reward_model = AutoModelForSequenceClassification.from_pretrained(reward_name)\n",
        "reward_tokenizer =  AutoTokenizer.from_pretrained(reward_name)\n",
        "\n",
        "question = \"How do I teach kids to meditate?\"\n",
        "helpful = \"I'm glad you want to teach your kids about meditation!\"\n",
        "bad = \"I am not able to answer this question.\"\n",
        "\n",
        "inputs = reward_tokenizer(question, helpful, return_tensors='pt')\n",
        "good_score = reward_model(**inputs).logits[0].cpu().detach()\n",
        "\n",
        "inputs = reward_tokenizer(question, bad, return_tensors='pt')\n",
        "bad_score = reward_model(**inputs).logits[0].cpu().detach()\n",
        "print(good_score, bad_score)\n"
      ]
    },
    {
      "cell_type": "markdown",
      "source": [
        "The example above shows that the reward model is giving a higher score to a more helpful response, so our hope is that we can train a more helpful model by encouraging it to generate responses with higher rewards."
      ],
      "metadata": {
        "id": "yzmNS70SGzQH"
      }
    },
    {
      "cell_type": "markdown",
      "metadata": {
        "id": "ZobEtZ86uQAG"
      },
      "source": [
        "### Training loop\n",
        "\n",
        "Now it's time to do reinforcement learning. We'll run PPO using the reward model as the basis for the reward function. The PPO trainer is initialized with two copies of the generative LLM. One will remain frozen for use as a reference, while the other will be the initial policy that's iteratively trained with PPO. The resulting policy after training is a new version of the generated model with the weights optimized for better human ratings. In each iteration of the training loop, the following steps occur:\n",
        "1. A batch of prompts is passed through both the policy LLM and the frozen copy.\n",
        "2. The responses from the policy are fed into the reward model to score their quality.\n",
        "3. Gradient descent is used to update the weights with the objective of maximizing the reward. Note that the reward model is typically not an adequate reward function on its own. The construction of the reward function is an active area of research, but it almost always includes KL divergence between the updated policy and the original reference LLM. The goal is to ensure that the policy doesn't overfit to the reward model and forget too much information that it had previously learned."
      ]
    },
    {
      "cell_type": "code",
      "execution_count": null,
      "metadata": {
        "id": "Z3MwX8izuJrS"
      },
      "outputs": [],
      "source": [
        "gen_kwargs = {\n",
        "    \"min_length\": -1,\n",
        "    \"top_k\": 0.0,\n",
        "    \"top_p\": 1.0,\n",
        "    \"do_sample\": True,\n",
        "    \"pad_token_id\": tokenizer.eos_token_id,\n",
        "    \"eos_token_id\": tokenizer.encode(END_KEY)\n",
        "}"
      ]
    },
    {
      "cell_type": "code",
      "execution_count": null,
      "metadata": {
        "id": "BFsTg7KMky7X"
      },
      "outputs": [],
      "source": [
        "def collator(data):\n",
        "    return dict((key, [d[key] for d in data]) for key in data[0])\n",
        "\n",
        "ppo_trainer = PPOTrainer(config, model, ref_model, tokenizer, dataset,\n",
        "                         data_collator=collator)"
      ]
    },
    {
      "cell_type": "code",
      "execution_count": null,
      "metadata": {
        "id": "WNso7Oi7oUhL"
      },
      "outputs": [],
      "source": [
        "device = ppo_trainer.accelerator.device\n",
        "if ppo_trainer.accelerator.num_processes == 1:\n",
        "    device = 0 if torch.cuda.is_available() else \"cpu\""
      ]
    },
    {
      "cell_type": "code",
      "execution_count": null,
      "metadata": {
        "colab": {
          "base_uri": "https://localhost:8080/",
          "height": 552
        },
        "id": "ntNIbSBUuPDJ",
        "outputId": "657c6cff-02d4-4088-952e-7b7f154ea38c"
      },
      "outputs": [
        {
          "output_type": "display_data",
          "data": {
            "image/png": "[encoded data removed]"
          },
          "metadata": {}
        },
        {
          "output_type": "stream",
          "name": "stderr",
          "text": [
            "400it [1:44:06, 15.62s/it]"
          ]
        },
        {
          "output_type": "stream",
          "name": "stdout",
          "text": [
            "What does feather in a cap mean In a feather in a cap is a type of artificial feather or string that is\n"
          ]
        },
        {
          "output_type": "stream",
          "name": "stderr",
          "text": [
            "\n"
          ]
        }
      ],
      "source": [
        "%matplotlib notebook\n",
        "\n",
        "# initialize notebook\n",
        "plt.ion()\n",
        "fig, ax = plt.subplots()\n",
        "xs = []\n",
        "moving_avg = []\n",
        "\n",
        "for epoch, batch in tqdm(enumerate(ppo_trainer.dataloader)):\n",
        "    query_tensors = batch[\"input_ids\"]\n",
        "\n",
        "    #### Get response from dlite\n",
        "    response_tensors = []\n",
        "    for query in query_tensors:\n",
        "        gen_len = 16\n",
        "        response = ppo_trainer.generate(query, max_new_tokens=gen_len, **gen_kwargs)\n",
        "        response_tensors.append(response.squeeze()[-gen_len:])\n",
        "    batch[\"response\"] = [tokenizer.decode(r.squeeze()) for r in response_tensors]\n",
        "\n",
        "    inputs = reward_tokenizer(batch[\"query\"], batch[\"response\"], return_tensors=\"pt\", padding=True)\n",
        "    inputs = inputs.to(device)\n",
        "    rewards = reward_model.cuda()(**inputs).logits.cpu().detach()\n",
        "    rewards = [r[0] for r in rewards]\n",
        "\n",
        "    #### Run PPO step\n",
        "    stats = ppo_trainer.step(query_tensors, response_tensors, rewards)\n",
        "    xs.append(stats[\"ppo/mean_scores\"])\n",
        "\n",
        "    if epoch < 9:\n",
        "      continue\n",
        "\n",
        "    moving_avg.append(np.mean(xs[-10:]))\n",
        "\n",
        "    ax.clear()\n",
        "    ax.plot(range(10, epoch+2), moving_avg)\n",
        "\n",
        "    ax.set_xlabel(\"Number of batches trained\")\n",
        "    ax.set_ylabel(\"Mean reward over last 10 batches\")\n",
        "    io = BytesIO()\n",
        "    fig.savefig(io, format=\"png\")\n",
        "\n",
        "    clear_output(wait=True)\n",
        "    display_png(Image(io.getvalue()))\n",
        "\n",
        "    print(batch[\"query\"][0], batch[\"response\"][0])\n"
      ]
    },
    {
      "cell_type": "code",
      "execution_count": null,
      "metadata": {
        "id": "VVDwUBTSbQEQ"
      },
      "outputs": [],
      "source": [
        "# push model to hub for easier evaluation\n",
        "\n",
        "MODEL_NAME = 'Name your model for HF Hub'\n",
        "\n",
        "model.push_to_hub(MODEL_NAME)"
      ]
    },
    {
      "cell_type": "markdown",
      "metadata": {
        "id": "m_oY8sywxp6y"
      },
      "source": [
        "### Model inspection"
      ]
    },
    {
      "cell_type": "code",
      "execution_count": null,
      "metadata": {
        "id": "WnWgIztRmxQB"
      },
      "outputs": [],
      "source": [
        "#### get a batch from the dataset\n",
        "bs = 16\n",
        "test_data = dict()\n",
        "dataset.set_format(\"pandas\")\n",
        "df_batch = dataset[:].sample(bs)\n",
        "test_data[\"query\"] = df_batch[\"query\"].tolist()\n",
        "query_tensors = df_batch[\"input_ids\"].tolist()\n",
        "\n",
        "response_tensors_ref, response_tensors = [], []\n",
        "\n",
        "#### get response from both original and new dlite\n",
        "for i in range(bs):\n",
        "    gen_len = 16\n",
        "    # gen_len = output_length_sampler()\n",
        "    output = ref_model.generate(\n",
        "        torch.tensor(query_tensors[i]).unsqueeze(dim=0).to(device), max_new_tokens=gen_len, **gen_kwargs\n",
        "    ).squeeze()[-gen_len:]\n",
        "    response_tensors_ref.append(output)\n",
        "    output = model.generate(\n",
        "        torch.tensor(query_tensors[i]).unsqueeze(dim=0).to(device), max_new_tokens=gen_len, **gen_kwargs\n",
        "    ).squeeze()[-gen_len:]\n",
        "    response_tensors.append(output)\n",
        "\n",
        "#### decode responses\n",
        "test_data[\"response (before)\"] = [tokenizer.decode(response_tensors_ref[i]) for i in range(bs)]\n",
        "test_data[\"response (after)\"] = [tokenizer.decode(response_tensors[i]) for i in range(bs)]\n",
        "\n",
        "inputs = reward_tokenizer(test_data['query'], test_data['response (before)'], return_tensors='pt', padding=True)\n",
        "inputs = inputs.to(device)\n",
        "test_data[\"rewards (before)\"] = [r[0] for r in reward_model.cuda()(**inputs).logits.cpu().detach()]\n",
        "\n",
        "inputs = reward_tokenizer(test_data['query'], test_data['response (after)'], return_tensors='pt', padding=True)\n",
        "inputs = inputs.to(device)\n",
        "test_data[\"rewards (after)\"] = [r[0] for r in reward_model.cuda()(**inputs).logits.cpu().detach()]\n"
      ]
    },
    {
      "cell_type": "code",
      "execution_count": null,
      "metadata": {
        "colab": {
          "base_uri": "https://localhost:8080/",
          "height": 890
        },
        "id": "pRrarBj5p5vo",
        "outputId": "766dea98-2ba8-4776-e819-57a105d10350"
      },
      "outputs": [
        {
          "output_type": "execute_result",
          "data": {
            "text/plain": [
              "                                                query  \\\n",
              "0            What are some ideas for leftover turkey?   \n",
              "1   Can you help me determine the right type of fe...   \n",
              "2   How many licks does it take to get to the cent...   \n",
              "3   Is it better the Lease a new car or to finance...   \n",
              "4   How can I get my son to open up and make frien...   \n",
              "5      What are the rules of the card game solitaire?   \n",
              "6   Which tie knot is best for a formal occasion l...   \n",
              "7             What are some good hot wings marinades?   \n",
              "8                                Was Nixon impeached?   \n",
              "9   I need to learn some words in French. Can you ...   \n",
              "10                    What are some good summer pies?   \n",
              "11  I'd like one day to swim with dolphins in the ...   \n",
              "12  How do I make my hair look more shiny and heal...   \n",
              "13  How many divisions are there in the Western NB...   \n",
              "14                          What was World War 1 like   \n",
              "15  The Mona Lisa always captivated me. I'd like t...   \n",
              "\n",
              "                                    response (before)  \\\n",
              "0   Some ideas for leftover turkey are:\\n- Apple C...   \n",
              "1   It is best to choose the best type of fertiliz...   \n",
              "2   A tootsie pop will take between 4 and 6 tootsi...   \n",
              "3   ### Instruction:The Lease would be better to o...   \n",
              "4   Creating an environment of trust and respect, ...   \n",
              "5   Solitaire is a game in which two or more playe...   \n",
              "6   Three-quarter lengths. The two, three and six-...   \n",
              "7   1. Coconut, paprika,### Instruction: basil,###...   \n",
              "8   No, Nixon was not impeached. He resigned upon ...   \n",
              "9            Vous avez avez un essay gender.\\n\\nwooz.   \n",
              "10  There are countless great summer pies to choos...   \n",
              "11  Nope, it's not possible. It would be like swim...   \n",
              "12  ### Response:\\n### Response:\\nThe best way to ...   \n",
              "13  There are currently 13 divisions in the Wester...   \n",
              "14  World War 1 was a long, sometimes deadly confl...   \n",
              "15  The Mona Lisa by Leonardo da Vinci is one of t...   \n",
              "\n",
              "                                     response (after) rewards (before)  \\\n",
              "0   Some ideas include: turkey meatballs, tacos, a...   tensor(2.1347)   \n",
              "1   The best type of fertilizer for a tree can dep...  tensor(-2.7239)   \n",
              "2   It typically takes 8 to 9 licks to get to the ...  tensor(-2.9244)   \n",
              "3   A better way to finance a new car is to branch...  tensor(-4.1368)   \n",
              "4   For talking about his school, you can tweet hi...  tensor(-1.2948)   \n",
              "5   The rules of the card game solitaire are:\\n\\nT...  tensor(-4.3734)   \n",
              "6   For a formal occasion, a tie knot is best for ...  tensor(-3.4834)   \n",
              "7   Here's a great hot wings marinade with a hint ...  tensor(-4.5374)   \n",
              "8   No, Richard Nixon was impeached in 1974 for ob...  tensor(-2.5136)   \n",
              "9   The best language learning resources available...  tensor(-4.1316)   \n",
              "10  Some of the best summer pies in the family inc...  tensor(-3.0875)   \n",
              "11  Yes, it is possible to swim with dolphins in t...  tensor(-4.0650)   \n",
              "12  To make your hair more shiny, spray your hair ...  tensor(-3.3536)   \n",
              "13  A number in the Western NBA Conference consist...  tensor(-4.1209)   \n",
              "14  World War 1 was a major conflict between oppos...  tensor(-2.8757)   \n",
              "15  The Mona Lisa is a classical 19th-century sitt...   tensor(1.0936)   \n",
              "\n",
              "    rewards (after)  \n",
              "0   tensor(-1.1177)  \n",
              "1    tensor(0.6168)  \n",
              "2    tensor(0.7741)  \n",
              "3   tensor(-3.2282)  \n",
              "4   tensor(-4.4997)  \n",
              "5   tensor(-3.1790)  \n",
              "6   tensor(-1.8277)  \n",
              "7   tensor(-3.2516)  \n",
              "8   tensor(-2.9687)  \n",
              "9   tensor(-2.9055)  \n",
              "10  tensor(-2.3647)  \n",
              "11  tensor(-1.8746)  \n",
              "12  tensor(-0.7757)  \n",
              "13  tensor(-4.2150)  \n",
              "14  tensor(-2.0250)  \n",
              "15  tensor(-2.3520)  "
            ],
            "text/html": [
              "\n",
              "  <div id=\"df-8c4f0412-2342-47a0-8493-ef0db6a67617\">\n",
              "    <div class=\"colab-df-container\">\n",
              "      <div>\n",
              "<style scoped>\n",
              "    .dataframe tbody tr th:only-of-type {\n",
              "        vertical-align: middle;\n",
              "    }\n",
              "\n",
              "    .dataframe tbody tr th {\n",
              "        vertical-align: top;\n",
              "    }\n",
              "\n",
              "    .dataframe thead th {\n",
              "        text-align: right;\n",
              "    }\n",
              "</style>\n",
              "<table border=\"1\" class=\"dataframe\">\n",
              "  <thead>\n",
              "    <tr style=\"text-align: right;\">\n",
              "      <th></th>\n",
              "      <th>query</th>\n",
              "      <th>response (before)</th>\n",
              "      <th>response (after)</th>\n",
              "      <th>rewards (before)</th>\n",
              "      <th>rewards (after)</th>\n",
              "    </tr>\n",
              "  </thead>\n",
              "  <tbody>\n",
              "    <tr>\n",
              "      <th>0</th>\n",
              "      <td>What are some ideas for leftover turkey?</td>\n",
              "      <td>Some ideas for leftover turkey are:\\n- Apple C...</td>\n",
              "      <td>Some ideas include: turkey meatballs, tacos, a...</td>\n",
              "      <td>tensor(2.1347)</td>\n",
              "      <td>tensor(-1.1177)</td>\n",
              "    </tr>\n",
              "    <tr>\n",
              "      <th>1</th>\n",
              "      <td>Can you help me determine the right type of fe...</td>\n",
              "      <td>It is best to choose the best type of fertiliz...</td>\n",
              "      <td>The best type of fertilizer for a tree can dep...</td>\n",
              "      <td>tensor(-2.7239)</td>\n",
              "      <td>tensor(0.6168)</td>\n",
              "    </tr>\n",
              "    <tr>\n",
              "      <th>2</th>\n",
              "      <td>How many licks does it take to get to the cent...</td>\n",
              "      <td>A tootsie pop will take between 4 and 6 tootsi...</td>\n",
              "      <td>It typically takes 8 to 9 licks to get to the ...</td>\n",
              "      <td>tensor(-2.9244)</td>\n",
              "      <td>tensor(0.7741)</td>\n",
              "    </tr>\n",
              "    <tr>\n",
              "      <th>3</th>\n",
              "      <td>Is it better the Lease a new car or to finance...</td>\n",
              "      <td>### Instruction:The Lease would be better to o...</td>\n",
              "      <td>A better way to finance a new car is to branch...</td>\n",
              "      <td>tensor(-4.1368)</td>\n",
              "      <td>tensor(-3.2282)</td>\n",
              "    </tr>\n",
              "    <tr>\n",
              "      <th>4</th>\n",
              "      <td>How can I get my son to open up and make frien...</td>\n",
              "      <td>Creating an environment of trust and respect, ...</td>\n",
              "      <td>For talking about his school, you can tweet hi...</td>\n",
              "      <td>tensor(-1.2948)</td>\n",
              "      <td>tensor(-4.4997)</td>\n",
              "    </tr>\n",
              "    <tr>\n",
              "      <th>5</th>\n",
              "      <td>What are the rules of the card game solitaire?</td>\n",
              "      <td>Solitaire is a game in which two or more playe...</td>\n",
              "      <td>The rules of the card game solitaire are:\\n\\nT...</td>\n",
              "      <td>tensor(-4.3734)</td>\n",
              "      <td>tensor(-3.1790)</td>\n",
              "    </tr>\n",
              "    <tr>\n",
              "      <th>6</th>\n",
              "      <td>Which tie knot is best for a formal occasion l...</td>\n",
              "      <td>Three-quarter lengths. The two, three and six-...</td>\n",
              "      <td>For a formal occasion, a tie knot is best for ...</td>\n",
              "      <td>tensor(-3.4834)</td>\n",
              "      <td>tensor(-1.8277)</td>\n",
              "    </tr>\n",
              "    <tr>\n",
              "      <th>7</th>\n",
              "      <td>What are some good hot wings marinades?</td>\n",
              "      <td>1. Coconut, paprika,### Instruction: basil,###...</td>\n",
              "      <td>Here's a great hot wings marinade with a hint ...</td>\n",
              "      <td>tensor(-4.5374)</td>\n",
              "      <td>tensor(-3.2516)</td>\n",
              "    </tr>\n",
              "    <tr>\n",
              "      <th>8</th>\n",
              "      <td>Was Nixon impeached?</td>\n",
              "      <td>No, Nixon was not impeached. He resigned upon ...</td>\n",
              "      <td>No, Richard Nixon was impeached in 1974 for ob...</td>\n",
              "      <td>tensor(-2.5136)</td>\n",
              "      <td>tensor(-2.9687)</td>\n",
              "    </tr>\n",
              "    <tr>\n",
              "      <th>9</th>\n",
              "      <td>I need to learn some words in French. Can you ...</td>\n",
              "      <td>Vous avez avez un essay gender.\\n\\nwooz.</td>\n",
              "      <td>The best language learning resources available...</td>\n",
              "      <td>tensor(-4.1316)</td>\n",
              "      <td>tensor(-2.9055)</td>\n",
              "    </tr>\n",
              "    <tr>\n",
              "      <th>10</th>\n",
              "      <td>What are some good summer pies?</td>\n",
              "      <td>There are countless great summer pies to choos...</td>\n",
              "      <td>Some of the best summer pies in the family inc...</td>\n",
              "      <td>tensor(-3.0875)</td>\n",
              "      <td>tensor(-2.3647)</td>\n",
              "    </tr>\n",
              "    <tr>\n",
              "      <th>11</th>\n",
              "      <td>I'd like one day to swim with dolphins in the ...</td>\n",
              "      <td>Nope, it's not possible. It would be like swim...</td>\n",
              "      <td>Yes, it is possible to swim with dolphins in t...</td>\n",
              "      <td>tensor(-4.0650)</td>\n",
              "      <td>tensor(-1.8746)</td>\n",
              "    </tr>\n",
              "    <tr>\n",
              "      <th>12</th>\n",
              "      <td>How do I make my hair look more shiny and heal...</td>\n",
              "      <td>### Response:\\n### Response:\\nThe best way to ...</td>\n",
              "      <td>To make your hair more shiny, spray your hair ...</td>\n",
              "      <td>tensor(-3.3536)</td>\n",
              "      <td>tensor(-0.7757)</td>\n",
              "    </tr>\n",
              "    <tr>\n",
              "      <th>13</th>\n",
              "      <td>How many divisions are there in the Western NB...</td>\n",
              "      <td>There are currently 13 divisions in the Wester...</td>\n",
              "      <td>A number in the Western NBA Conference consist...</td>\n",
              "      <td>tensor(-4.1209)</td>\n",
              "      <td>tensor(-4.2150)</td>\n",
              "    </tr>\n",
              "    <tr>\n",
              "      <th>14</th>\n",
              "      <td>What was World War 1 like</td>\n",
              "      <td>World War 1 was a long, sometimes deadly confl...</td>\n",
              "      <td>World War 1 was a major conflict between oppos...</td>\n",
              "      <td>tensor(-2.8757)</td>\n",
              "      <td>tensor(-2.0250)</td>\n",
              "    </tr>\n",
              "    <tr>\n",
              "      <th>15</th>\n",
              "      <td>The Mona Lisa always captivated me. I'd like t...</td>\n",
              "      <td>The Mona Lisa by Leonardo da Vinci is one of t...</td>\n",
              "      <td>The Mona Lisa is a classical 19th-century sitt...</td>\n",
              "      <td>tensor(1.0936)</td>\n",
              "      <td>tensor(-2.3520)</td>\n",
              "    </tr>\n",
              "  </tbody>\n",
              "</table>\n",
              "</div>\n",
              "      <button class=\"colab-df-convert\" onclick=\"convertToInteractive('df-8c4f0412-2342-47a0-8493-ef0db6a67617')\"\n",
              "              title=\"Convert this dataframe to an interactive table.\"\n",
              "              style=\"display:none;\">\n",
              "        \n",
              "  <svg xmlns=\"http://www.w3.org/2000/svg\" height=\"24px\"viewBox=\"0 0 24 24\"\n",
              "       width=\"24px\">\n",
              "    <path d=\"M0 0h24v24H0V0z\" fill=\"none\"/>\n",
              "    <path d=\"M18.56 5.44l.94 2.06.94-2.06 2.06-.94-2.06-.94-.94-2.06-.94 2.06-2.06.94zm-11 1L8.5 8.5l.94-2.06 2.06-.94-2.06-.94L8.5 2.5l-.94 2.06-2.06.94zm10 10l.94 2.06.94-2.06 2.06-.94-2.06-.94-.94-2.06-.94 2.06-2.06.94z\"/><path d=\"M17.41 7.96l-1.37-1.37c-.4-.4-.92-.59-1.43-.59-.52 0-1.04.2-1.43.59L10.3 9.45l-7.72 7.72c-.78.78-.78 2.05 0 2.83L4 21.41c.39.39.9.59 1.41.59.51 0 1.02-.2 1.41-.59l7.78-7.78 2.81-2.81c.8-.78.8-2.07 0-2.86zM5.41 20L4 18.59l7.72-7.72 1.47 1.35L5.41 20z\"/>\n",
              "  </svg>\n",
              "      </button>\n",
              "      \n",
              "  <style>\n",
              "    .colab-df-container {\n",
              "      display:flex;\n",
              "      flex-wrap:wrap;\n",
              "      gap: 12px;\n",
              "    }\n",
              "\n",
              "    .colab-df-convert {\n",
              "      background-color: #E8F0FE;\n",
              "      border: none;\n",
              "      border-radius: 50%;\n",
              "      cursor: pointer;\n",
              "      display: none;\n",
              "      fill: #1967D2;\n",
              "      height: 32px;\n",
              "      padding: 0 0 0 0;\n",
              "      width: 32px;\n",
              "    }\n",
              "\n",
              "    .colab-df-convert:hover {\n",
              "      background-color: #E2EBFA;\n",
              "      box-shadow: 0px 1px 2px rgba(60, 64, 67, 0.3), 0px 1px 3px 1px rgba(60, 64, 67, 0.15);\n",
              "      fill: #174EA6;\n",
              "    }\n",
              "\n",
              "    [theme=dark] .colab-df-convert {\n",
              "      background-color: #3B4455;\n",
              "      fill: #D2E3FC;\n",
              "    }\n",
              "\n",
              "    [theme=dark] .colab-df-convert:hover {\n",
              "      background-color: #434B5C;\n",
              "      box-shadow: 0px 1px 3px 1px rgba(0, 0, 0, 0.15);\n",
              "      filter: drop-shadow(0px 1px 2px rgba(0, 0, 0, 0.3));\n",
              "      fill: #FFFFFF;\n",
              "    }\n",
              "  </style>\n",
              "\n",
              "      <script>\n",
              "        const buttonEl =\n",
              "          document.querySelector('#df-8c4f0412-2342-47a0-8493-ef0db6a67617 button.colab-df-convert');\n",
              "        buttonEl.style.display =\n",
              "          google.colab.kernel.accessAllowed ? 'block' : 'none';\n",
              "\n",
              "        async function convertToInteractive(key) {\n",
              "          const element = document.querySelector('#df-8c4f0412-2342-47a0-8493-ef0db6a67617');\n",
              "          const dataTable =\n",
              "            await google.colab.kernel.invokeFunction('convertToInteractive',\n",
              "                                                     [key], {});\n",
              "          if (!dataTable) return;\n",
              "\n",
              "          const docLinkHtml = 'Like what you see? Visit the ' +\n",
              "            '<a target=\"_blank\" href=https://colab.research.google.com/notebooks/data_table.ipynb>data table notebook</a>'\n",
              "            + ' to learn more about interactive tables.';\n",
              "          element.innerHTML = '';\n",
              "          dataTable['output_type'] = 'display_data';\n",
              "          await google.colab.output.renderOutput(dataTable, element);\n",
              "          const docLink = document.createElement('div');\n",
              "          docLink.innerHTML = docLinkHtml;\n",
              "          element.appendChild(docLink);\n",
              "        }\n",
              "      </script>\n",
              "    </div>\n",
              "  </div>\n",
              "  "
            ]
          },
          "metadata": {},
          "execution_count": 19
        }
      ],
      "source": [
        "# store results in a dataframe\n",
        "df_results = pd.DataFrame(test_data)\n",
        "df_results"
      ]
    },
    {
      "cell_type": "code",
      "execution_count": null,
      "metadata": {
        "colab": {
          "base_uri": "https://localhost:8080/",
          "height": 173
        },
        "id": "C3YBQtwFrJZt",
        "outputId": "b0a2aa58-4c3a-4f53-b70c-ee95c9ded857"
      },
      "outputs": [
        {
          "output_type": "stream",
          "name": "stdout",
          "text": [
            "mean:\n"
          ]
        },
        {
          "output_type": "display_data",
          "data": {
            "text/plain": [
              "rewards (before)   -2.774595\n",
              "rewards (after)    -2.199644\n",
              "dtype: float64"
            ]
          },
          "metadata": {}
        },
        {
          "output_type": "stream",
          "name": "stdout",
          "text": [
            "\n",
            "median:\n"
          ]
        },
        {
          "output_type": "display_data",
          "data": {
            "text/plain": [
              "rewards (before)   -3.22051\n",
              "rewards (after)    -2.35836\n",
              "dtype: float64"
            ]
          },
          "metadata": {}
        }
      ],
      "source": [
        "print(\"mean:\")\n",
        "display(df_results[[\"rewards (before)\", \"rewards (after)\"]].mean())\n",
        "print()\n",
        "print(\"median:\")\n",
        "display(df_results[[\"rewards (before)\", \"rewards (after)\"]].median())"
      ]
    },
    {
      "cell_type": "code",
      "execution_count": null,
      "metadata": {
        "colab": {
          "base_uri": "https://localhost:8080/",
          "height": 384
        },
        "id": "nDPH1Li6TGQk",
        "outputId": "8c4e7d16-5efc-4bfb-b51a-b4005bfbfbdd"
      },
      "outputs": [
        {
          "name": "stdout",
          "output_type": "stream",
          "text": [
            "query: During which historical or societal events should I absolutely avoid investing money.\n",
            "response (before): If you want to go on a grand tour of the world and have a ton\n",
            "response (after): It is important to not invest money into events that have a major impact on international\n",
            "\n",
            "query: Should you listen to music while studying?\n",
            "response (before): Yes, it's important to listen to music during study and in conversation to keep\n",
            "response (after): Preferably without headphones or distractions, but in certain situations, it is possible\n",
            "\n",
            "query: Can you recommend a good recipe for a vegetarian curry?\n",
            "response (before): A great plant-based recipe for a vegetarian curry is South Indian Veggie Curry\n",
            "response (after): A good recipe for a vegetarian curry would be a recipe like \" Sweet Lamb K\n",
            "\n",
            "query: How do I make baked chicken?\n",
            "response (before): The easiest way to make baked chicken is to put the chicken in a baking dish\n",
            "response (after): To make baked chicken, preheat the oven to 425°F (190°\n",
            "\n",
            "query: Do Christmas lights really last longer if you keep them on all the time?\n",
            "response (before): ### Instruction:No, not really.### Instruction: According to research, lighting the Christmas tree### Instruction:\n",
            "response (after): No, Christmas lights can't last longer if you keep them all the time.\n",
            "\n"
          ]
        }
      ],
      "source": [
        "for i, row in df_results.sort_values('rewards (after)', ascending=False)[:5].iterrows():\n",
        "  print('query:', row['query'])\n",
        "  print('response (before):', row['response (before)'])\n",
        "  print('response (after):', row['response (after)'])\n",
        "  print()"
      ]
    },
    {
      "cell_type": "markdown",
      "metadata": {
        "id": "_PlJPwY4bfyJ"
      },
      "source": [
        "Further possibilities exist beyond the minimalist demonstration of the RLHF process provided above. One possible improvement is that reward models can be continually updated with online data in a system that gives users the option of rating the virtual assistant's answers. This ensures that recent data is readily available to keep the reward model current, and the cost is lower than having to pay people to do the annotation. The tradeoff, however, is that the quality of rankings may not be as consistent."
      ]
    },
    {
      "cell_type": "markdown",
      "metadata": {
        "id": "f3LXiV4gT_rC"
      },
      "source": [
        "### Calculate perplexity"
      ]
    },
    {
      "cell_type": "code",
      "execution_count": null,
      "metadata": {
        "colab": {
          "base_uri": "https://localhost:8080/"
        },
        "id": "kj1mOlJLUbHv",
        "outputId": "cb660d71-29a7-4eca-b23f-62de36116f5b"
      },
      "outputs": [
        {
          "output_type": "stream",
          "name": "stderr",
          "text": [
            "WARNING:datasets.builder:Found cached dataset json (/root/.cache/huggingface/datasets/Anthropic___json/Anthropic--hh-rlhf-37c6f75e35564d2a/0.0.0/8bb11242116d547c741b2e8a1f18598ffdd40a1d4f2a2872c7a28b697434bc96)\n"
          ]
        },
        {
          "output_type": "execute_result",
          "data": {
            "text/plain": [
              "Dataset({\n",
              "    features: ['chosen', 'rejected'],\n",
              "    num_rows: 2354\n",
              "})"
            ]
          },
          "metadata": {},
          "execution_count": 13
        }
      ],
      "source": [
        "test_ds = load_dataset('Anthropic/hh-rlhf', data_dir=\"helpful-base\", split=\"test\")\n",
        "test_ds"
      ]
    },
    {
      "cell_type": "markdown",
      "source": [
        "To further examine the gains achieved by the RLHF process, we'll use the perplexity metric which is very commonly used for autoregressive models. It essentially works by referencing a desirable text and then computing the probabilities that the LM could have produced that same sequence of tokens. The result is inverted so that the minimum value is 1.0, and lower scores indicate a better model than higher scores. A nice visual explanation of perplexity can be found here: https://huggingface.co/docs/transformers/perplexity. The HuggingFace `evaluate` library also provides a convenient method for computing perplexity, which is what we use in this tutorial.\n",
        "\n",
        "For our evaluation data, we use the `test` split of the Anthropic dataset that the RL policy was trained on. This will give us similar types of examples, but they are ones that were never seen during the RLHF process. The text from the `chosen` column is supplied to both the original LM and the one that we tuned on the Helpful data. This allows us to compare how well each LM is conditioned to produce the output that a human annotator would consider to be helpful."
      ],
      "metadata": {
        "id": "2Bt4Jc8nOyZo"
      }
    },
    {
      "cell_type": "code",
      "execution_count": null,
      "metadata": {
        "colab": {
          "base_uri": "https://localhost:8080/",
          "height": 49,
          "referenced_widgets": [
            "f438d8d2661c4b8a84717bb7f4594112",
            "10ff6536c4ec454fa1ce71e63189144d",
            "f848742d9a354c258fcce780816d9d01",
            "2d9000b2fa7a46b3a727fb1cdceeabd2",
            "42c5446a37b741f393578fd326d1a891",
            "cca53ad15ee74935ae0075182700a341",
            "46b7088bcf5e43c8a6fe336a54219b71",
            "5933a1cd0b2049c685597e5703e7572f",
            "2664b96b02c447f49ba9a208e1f923c2",
            "8fcd53d9754443c8879551212d2cb457",
            "1d646cfac7d74ffa8e35586eccfa4d78"
          ]
        },
        "id": "n55nTJ4LYq_0",
        "outputId": "802f87db-f3c9-4e77-9f48-c1c070f1aeec"
      },
      "outputs": [
        {
          "output_type": "display_data",
          "data": {
            "text/plain": [
              "  0%|          | 0/148 [00:00<?, ?it/s]"
            ],
            "application/vnd.jupyter.widget-view+json": {
              "version_major": 2,
              "version_minor": 0,
              "model_id": "f438d8d2661c4b8a84717bb7f4594112"
            }
          },
          "metadata": {}
        }
      ],
      "source": [
        "from evaluate import load\n",
        "\n",
        "perplexity = load(\"perplexity\", module_type=\"metric\")\n",
        "results = perplexity.compute(predictions=test_ds['chosen'],\n",
        "                             model_id=config.model_name)"
      ]
    },
    {
      "cell_type": "code",
      "execution_count": null,
      "metadata": {
        "colab": {
          "base_uri": "https://localhost:8080/"
        },
        "id": "qwGFvzXaVSFm",
        "outputId": "c6c2548c-ded5-477d-bf1c-981039d8ae70"
      },
      "outputs": [
        {
          "output_type": "execute_result",
          "data": {
            "text/plain": [
              "31.35107155330321"
            ]
          },
          "metadata": {},
          "execution_count": 15
        }
      ],
      "source": [
        "results['mean_perplexity']"
      ]
    },
    {
      "cell_type": "code",
      "execution_count": null,
      "metadata": {
        "id": "L0e7tXDcVfss"
      },
      "outputs": [],
      "source": [
        "perplexity = load(\"perplexity\", module_type=\"metric\")\n",
        "results = perplexity.compute(predictions=test_ds['chosen'],\n",
        "                             model_id=MODEL_NAME)"
      ]
    },
    {
      "cell_type": "code",
      "execution_count": null,
      "metadata": {
        "colab": {
          "base_uri": "https://localhost:8080/"
        },
        "id": "5bpkFcf7eU4n",
        "outputId": "7ef5a1b5-b8b5-4c89-998e-80334ed7992d"
      },
      "outputs": [
        {
          "output_type": "execute_result",
          "data": {
            "text/plain": [
              "25.6802997041174"
            ]
          },
          "metadata": {},
          "execution_count": 9
        }
      ],
      "source": [
        "results['mean_perplexity']"
      ]
    },
    {
      "cell_type": "markdown",
      "source": [
        "Our results show an improvement in perplexity of more than 20% on the Helpful test data, confirming that our short RL training loop had the intended effect of aligning the model's responses to human preferences."
      ],
      "metadata": {
        "id": "H0LKanOGZwky"
      }
    },
    {
      "cell_type": "code",
      "source": [],
      "metadata": {
        "id": "8EEbShgto1ZM"
      },
      "execution_count": null,
      "outputs": []
    }
  ],
  "metadata": {
    "accelerator": "GPU",
    "colab": {
      "machine_shape": "hm",
      "provenance": [],
      "mount_file_id": "1v-Q5r2V2LY6KidsqQfb406NMprfHmUlH",
      "authorship_tag": "ABX9TyNpeOqX/p1jKeUh2Ll+MSdY",
      "include_colab_link": true
    },
    "kernelspec": {
      "display_name": "Python 3",
      "name": "python3"
    },
    "language_info": {
      "name": "python"
    },
    "widgets": {
      "application/vnd.jupyter.widget-state+json": {
        "85eb7ff40f774151bb9bed98334cc852": {
          "model_module": "@jupyter-widgets/controls",
          "model_name": "VBoxModel",
          "model_module_version": "1.5.0",
          "state": {
            "_dom_classes": [],
            "_model_module": "@jupyter-widgets/controls",
            "_model_module_version": "1.5.0",
            "_model_name": "VBoxModel",
            "_view_count": null,
            "_view_module": "@jupyter-widgets/controls",
            "_view_module_version": "1.5.0",
            "_view_name": "VBoxView",
            "box_style": "",
            "children": [
              "IPY_MODEL_0621c6803efb43588849fa80d62dd71c",
              "IPY_MODEL_04cc5d5ef59e446b98ebb5880ebf10dd",
              "IPY_MODEL_24b705307f0c4d02b3c6e694b173fe51",
              "IPY_MODEL_ae8fa1a6e68e4479b7fdf4453c31f52d",
              "IPY_MODEL_6d78023ed92245859a56455dd9469d99"
            ],
            "layout": "IPY_MODEL_a3840bc7030643ed83df41307cddd7cf"
          }
        },
        "0621c6803efb43588849fa80d62dd71c": {
          "model_module": "@jupyter-widgets/controls",
          "model_name": "HTMLModel",
          "model_module_version": "1.5.0",
          "state": {
            "_dom_classes": [],
            "_model_module": "@jupyter-widgets/controls",
            "_model_module_version": "1.5.0",
            "_model_name": "HTMLModel",
            "_view_count": null,
            "_view_module": "@jupyter-widgets/controls",
            "_view_module_version": "1.5.0",
            "_view_name": "HTMLView",
            "description": "",
            "description_tooltip": null,
            "layout": "IPY_MODEL_9ea8e56852be47edb337d87db2fa6494",
            "placeholder": "​",
            "style": "IPY_MODEL_1a77fc100a7a49d3a2af18446f6e800f",
            "value": "<center> <img\nsrc=https://huggingface.co/front/assets/huggingface_logo-noborder.svg\nalt='Hugging Face'> <br> Copy a token from <a\nhref=\"https://huggingface.co/settings/tokens\" target=\"_blank\">your Hugging Face\ntokens page</a> and paste it below. <br> Immediately click login after copying\nyour token or it might be stored in plain text in this notebook file. </center>"
          }
        },
        "04cc5d5ef59e446b98ebb5880ebf10dd": {
          "model_module": "@jupyter-widgets/controls",
          "model_name": "PasswordModel",
          "model_module_version": "1.5.0",
          "state": {
            "_dom_classes": [],
            "_model_module": "@jupyter-widgets/controls",
            "_model_module_version": "1.5.0",
            "_model_name": "PasswordModel",
            "_view_count": null,
            "_view_module": "@jupyter-widgets/controls",
            "_view_module_version": "1.5.0",
            "_view_name": "PasswordView",
            "continuous_update": true,
            "description": "Token:",
            "description_tooltip": null,
            "disabled": false,
            "layout": "IPY_MODEL_010f0b8bdfb44af2a9c652ebf6462eea",
            "placeholder": "​",
            "style": "IPY_MODEL_fddf45ac86714d2389096680f668170b",
            "value": ""
          }
        },
        "24b705307f0c4d02b3c6e694b173fe51": {
          "model_module": "@jupyter-widgets/controls",
          "model_name": "CheckboxModel",
          "model_module_version": "1.5.0",
          "state": {
            "_dom_classes": [],
            "_model_module": "@jupyter-widgets/controls",
            "_model_module_version": "1.5.0",
            "_model_name": "CheckboxModel",
            "_view_count": null,
            "_view_module": "@jupyter-widgets/controls",
            "_view_module_version": "1.5.0",
            "_view_name": "CheckboxView",
            "description": "Add token as git credential?",
            "description_tooltip": null,
            "disabled": false,
            "indent": true,
            "layout": "IPY_MODEL_2d0f4b64bf784aa28de269b8cad77d74",
            "style": "IPY_MODEL_571651d20243438694d1f4560d9c3061",
            "value": true
          }
        },
        "ae8fa1a6e68e4479b7fdf4453c31f52d": {
          "model_module": "@jupyter-widgets/controls",
          "model_name": "ButtonModel",
          "model_module_version": "1.5.0",
          "state": {
            "_dom_classes": [],
            "_model_module": "@jupyter-widgets/controls",
            "_model_module_version": "1.5.0",
            "_model_name": "ButtonModel",
            "_view_count": null,
            "_view_module": "@jupyter-widgets/controls",
            "_view_module_version": "1.5.0",
            "_view_name": "ButtonView",
            "button_style": "",
            "description": "Login",
            "disabled": false,
            "icon": "",
            "layout": "IPY_MODEL_b12dbb76de124379bb15bec8b0c45a60",
            "style": "IPY_MODEL_0ada111d32694124ace396833c08e0a2",
            "tooltip": ""
          }
        },
        "6d78023ed92245859a56455dd9469d99": {
          "model_module": "@jupyter-widgets/controls",
          "model_name": "HTMLModel",
          "model_module_version": "1.5.0",
          "state": {
            "_dom_classes": [],
            "_model_module": "@jupyter-widgets/controls",
            "_model_module_version": "1.5.0",
            "_model_name": "HTMLModel",
            "_view_count": null,
            "_view_module": "@jupyter-widgets/controls",
            "_view_module_version": "1.5.0",
            "_view_name": "HTMLView",
            "description": "",
            "description_tooltip": null,
            "layout": "IPY_MODEL_96a3357e4fde417f933c3e7deee3f890",
            "placeholder": "​",
            "style": "IPY_MODEL_ebc75dc8c34340888d182735ec080a45",
            "value": "\n<b>Pro Tip:</b> If you don't already have one, you can create a dedicated\n'notebooks' token with 'write' access, that you can then easily reuse for all\nnotebooks. </center>"
          }
        },
        "a3840bc7030643ed83df41307cddd7cf": {
          "model_module": "@jupyter-widgets/base",
          "model_name": "LayoutModel",
          "model_module_version": "1.2.0",
          "state": {
            "_model_module": "@jupyter-widgets/base",
            "_model_module_version": "1.2.0",
            "_model_name": "LayoutModel",
            "_view_count": null,
            "_view_module": "@jupyter-widgets/base",
            "_view_module_version": "1.2.0",
            "_view_name": "LayoutView",
            "align_content": null,
            "align_items": "center",
            "align_self": null,
            "border": null,
            "bottom": null,
            "display": "flex",
            "flex": null,
            "flex_flow": "column",
            "grid_area": null,
            "grid_auto_columns": null,
            "grid_auto_flow": null,
            "grid_auto_rows": null,
            "grid_column": null,
            "grid_gap": null,
            "grid_row": null,
            "grid_template_areas": null,
            "grid_template_columns": null,
            "grid_template_rows": null,
            "height": null,
            "justify_content": null,
            "justify_items": null,
            "left": null,
            "margin": null,
            "max_height": null,
            "max_width": null,
            "min_height": null,
            "min_width": null,
            "object_fit": null,
            "object_position": null,
            "order": null,
            "overflow": null,
            "overflow_x": null,
            "overflow_y": null,
            "padding": null,
            "right": null,
            "top": null,
            "visibility": null,
            "width": "50%"
          }
        },
        "9ea8e56852be47edb337d87db2fa6494": {
          "model_module": "@jupyter-widgets/base",
          "model_name": "LayoutModel",
          "model_module_version": "1.2.0",
          "state": {
            "_model_module": "@jupyter-widgets/base",
            "_model_module_version": "1.2.0",
            "_model_name": "LayoutModel",
            "_view_count": null,
            "_view_module": "@jupyter-widgets/base",
            "_view_module_version": "1.2.0",
            "_view_name": "LayoutView",
            "align_content": null,
            "align_items": null,
            "align_self": null,
            "border": null,
            "bottom": null,
            "display": null,
            "flex": null,
            "flex_flow": null,
            "grid_area": null,
            "grid_auto_columns": null,
            "grid_auto_flow": null,
            "grid_auto_rows": null,
            "grid_column": null,
            "grid_gap": null,
            "grid_row": null,
            "grid_template_areas": null,
            "grid_template_columns": null,
            "grid_template_rows": null,
            "height": null,
            "justify_content": null,
            "justify_items": null,
            "left": null,
            "margin": null,
            "max_height": null,
            "max_width": null,
            "min_height": null,
            "min_width": null,
            "object_fit": null,
            "object_position": null,
            "order": null,
            "overflow": null,
            "overflow_x": null,
            "overflow_y": null,
            "padding": null,
            "right": null,
            "top": null,
            "visibility": null,
            "width": null
          }
        },
        "1a77fc100a7a49d3a2af18446f6e800f": {
          "model_module": "@jupyter-widgets/controls",
          "model_name": "DescriptionStyleModel",
          "model_module_version": "1.5.0",
          "state": {
            "_model_module": "@jupyter-widgets/controls",
            "_model_module_version": "1.5.0",
            "_model_name": "DescriptionStyleModel",
            "_view_count": null,
            "_view_module": "@jupyter-widgets/base",
            "_view_module_version": "1.2.0",
            "_view_name": "StyleView",
            "description_width": ""
          }
        },
        "010f0b8bdfb44af2a9c652ebf6462eea": {
          "model_module": "@jupyter-widgets/base",
          "model_name": "LayoutModel",
          "model_module_version": "1.2.0",
          "state": {
            "_model_module": "@jupyter-widgets/base",
            "_model_module_version": "1.2.0",
            "_model_name": "LayoutModel",
            "_view_count": null,
            "_view_module": "@jupyter-widgets/base",
            "_view_module_version": "1.2.0",
            "_view_name": "LayoutView",
            "align_content": null,
            "align_items": null,
            "align_self": null,
            "border": null,
            "bottom": null,
            "display": null,
            "flex": null,
            "flex_flow": null,
            "grid_area": null,
            "grid_auto_columns": null,
            "grid_auto_flow": null,
            "grid_auto_rows": null,
            "grid_column": null,
            "grid_gap": null,
            "grid_row": null,
            "grid_template_areas": null,
            "grid_template_columns": null,
            "grid_template_rows": null,
            "height": null,
            "justify_content": null,
            "justify_items": null,
            "left": null,
            "margin": null,
            "max_height": null,
            "max_width": null,
            "min_height": null,
            "min_width": null,
            "object_fit": null,
            "object_position": null,
            "order": null,
            "overflow": null,
            "overflow_x": null,
            "overflow_y": null,
            "padding": null,
            "right": null,
            "top": null,
            "visibility": null,
            "width": null
          }
        },
        "fddf45ac86714d2389096680f668170b": {
          "model_module": "@jupyter-widgets/controls",
          "model_name": "DescriptionStyleModel",
          "model_module_version": "1.5.0",
          "state": {
            "_model_module": "@jupyter-widgets/controls",
            "_model_module_version": "1.5.0",
            "_model_name": "DescriptionStyleModel",
            "_view_count": null,
            "_view_module": "@jupyter-widgets/base",
            "_view_module_version": "1.2.0",
            "_view_name": "StyleView",
            "description_width": ""
          }
        },
        "2d0f4b64bf784aa28de269b8cad77d74": {
          "model_module": "@jupyter-widgets/base",
          "model_name": "LayoutModel",
          "model_module_version": "1.2.0",
          "state": {
            "_model_module": "@jupyter-widgets/base",
            "_model_module_version": "1.2.0",
            "_model_name": "LayoutModel",
            "_view_count": null,
            "_view_module": "@jupyter-widgets/base",
            "_view_module_version": "1.2.0",
            "_view_name": "LayoutView",
            "align_content": null,
            "align_items": null,
            "align_self": null,
            "border": null,
            "bottom": null,
            "display": null,
            "flex": null,
            "flex_flow": null,
            "grid_area": null,
            "grid_auto_columns": null,
            "grid_auto_flow": null,
            "grid_auto_rows": null,
            "grid_column": null,
            "grid_gap": null,
            "grid_row": null,
            "grid_template_areas": null,
            "grid_template_columns": null,
            "grid_template_rows": null,
            "height": null,
            "justify_content": null,
            "justify_items": null,
            "left": null,
            "margin": null,
            "max_height": null,
            "max_width": null,
            "min_height": null,
            "min_width": null,
            "object_fit": null,
            "object_position": null,
            "order": null,
            "overflow": null,
            "overflow_x": null,
            "overflow_y": null,
            "padding": null,
            "right": null,
            "top": null,
            "visibility": null,
            "width": null
          }
        },
        "571651d20243438694d1f4560d9c3061": {
          "model_module": "@jupyter-widgets/controls",
          "model_name": "DescriptionStyleModel",
          "model_module_version": "1.5.0",
          "state": {
            "_model_module": "@jupyter-widgets/controls",
            "_model_module_version": "1.5.0",
            "_model_name": "DescriptionStyleModel",
            "_view_count": null,
            "_view_module": "@jupyter-widgets/base",
            "_view_module_version": "1.2.0",
            "_view_name": "StyleView",
            "description_width": ""
          }
        },
        "b12dbb76de124379bb15bec8b0c45a60": {
          "model_module": "@jupyter-widgets/base",
          "model_name": "LayoutModel",
          "model_module_version": "1.2.0",
          "state": {
            "_model_module": "@jupyter-widgets/base",
            "_model_module_version": "1.2.0",
            "_model_name": "LayoutModel",
            "_view_count": null,
            "_view_module": "@jupyter-widgets/base",
            "_view_module_version": "1.2.0",
            "_view_name": "LayoutView",
            "align_content": null,
            "align_items": null,
            "align_self": null,
            "border": null,
            "bottom": null,
            "display": null,
            "flex": null,
            "flex_flow": null,
            "grid_area": null,
            "grid_auto_columns": null,
            "grid_auto_flow": null,
            "grid_auto_rows": null,
            "grid_column": null,
            "grid_gap": null,
            "grid_row": null,
            "grid_template_areas": null,
            "grid_template_columns": null,
            "grid_template_rows": null,
            "height": null,
            "justify_content": null,
            "justify_items": null,
            "left": null,
            "margin": null,
            "max_height": null,
            "max_width": null,
            "min_height": null,
            "min_width": null,
            "object_fit": null,
            "object_position": null,
            "order": null,
            "overflow": null,
            "overflow_x": null,
            "overflow_y": null,
            "padding": null,
            "right": null,
            "top": null,
            "visibility": null,
            "width": null
          }
        },
        "0ada111d32694124ace396833c08e0a2": {
          "model_module": "@jupyter-widgets/controls",
          "model_name": "ButtonStyleModel",
          "model_module_version": "1.5.0",
          "state": {
            "_model_module": "@jupyter-widgets/controls",
            "_model_module_version": "1.5.0",
            "_model_name": "ButtonStyleModel",
            "_view_count": null,
            "_view_module": "@jupyter-widgets/base",
            "_view_module_version": "1.2.0",
            "_view_name": "StyleView",
            "button_color": null,
            "font_weight": ""
          }
        },
        "96a3357e4fde417f933c3e7deee3f890": {
          "model_module": "@jupyter-widgets/base",
          "model_name": "LayoutModel",
          "model_module_version": "1.2.0",
          "state": {
            "_model_module": "@jupyter-widgets/base",
            "_model_module_version": "1.2.0",
            "_model_name": "LayoutModel",
            "_view_count": null,
            "_view_module": "@jupyter-widgets/base",
            "_view_module_version": "1.2.0",
            "_view_name": "LayoutView",
            "align_content": null,
            "align_items": null,
            "align_self": null,
            "border": null,
            "bottom": null,
            "display": null,
            "flex": null,
            "flex_flow": null,
            "grid_area": null,
            "grid_auto_columns": null,
            "grid_auto_flow": null,
            "grid_auto_rows": null,
            "grid_column": null,
            "grid_gap": null,
            "grid_row": null,
            "grid_template_areas": null,
            "grid_template_columns": null,
            "grid_template_rows": null,
            "height": null,
            "justify_content": null,
            "justify_items": null,
            "left": null,
            "margin": null,
            "max_height": null,
            "max_width": null,
            "min_height": null,
            "min_width": null,
            "object_fit": null,
            "object_position": null,
            "order": null,
            "overflow": null,
            "overflow_x": null,
            "overflow_y": null,
            "padding": null,
            "right": null,
            "top": null,
            "visibility": null,
            "width": null
          }
        },
        "ebc75dc8c34340888d182735ec080a45": {
          "model_module": "@jupyter-widgets/controls",
          "model_name": "DescriptionStyleModel",
          "model_module_version": "1.5.0",
          "state": {
            "_model_module": "@jupyter-widgets/controls",
            "_model_module_version": "1.5.0",
            "_model_name": "DescriptionStyleModel",
            "_view_count": null,
            "_view_module": "@jupyter-widgets/base",
            "_view_module_version": "1.2.0",
            "_view_name": "StyleView",
            "description_width": ""
          }
        },
        "f438d8d2661c4b8a84717bb7f4594112": {
          "model_module": "@jupyter-widgets/controls",
          "model_name": "HBoxModel",
          "model_module_version": "1.5.0",
          "state": {
            "_dom_classes": [],
            "_model_module": "@jupyter-widgets/controls",
            "_model_module_version": "1.5.0",
            "_model_name": "HBoxModel",
            "_view_count": null,
            "_view_module": "@jupyter-widgets/controls",
            "_view_module_version": "1.5.0",
            "_view_name": "HBoxView",
            "box_style": "",
            "children": [
              "IPY_MODEL_10ff6536c4ec454fa1ce71e63189144d",
              "IPY_MODEL_f848742d9a354c258fcce780816d9d01",
              "IPY_MODEL_2d9000b2fa7a46b3a727fb1cdceeabd2"
            ],
            "layout": "IPY_MODEL_42c5446a37b741f393578fd326d1a891"
          }
        },
        "10ff6536c4ec454fa1ce71e63189144d": {
          "model_module": "@jupyter-widgets/controls",
          "model_name": "HTMLModel",
          "model_module_version": "1.5.0",
          "state": {
            "_dom_classes": [],
            "_model_module": "@jupyter-widgets/controls",
            "_model_module_version": "1.5.0",
            "_model_name": "HTMLModel",
            "_view_count": null,
            "_view_module": "@jupyter-widgets/controls",
            "_view_module_version": "1.5.0",
            "_view_name": "HTMLView",
            "description": "",
            "description_tooltip": null,
            "layout": "IPY_MODEL_cca53ad15ee74935ae0075182700a341",
            "placeholder": "​",
            "style": "IPY_MODEL_46b7088bcf5e43c8a6fe336a54219b71",
            "value": "100%"
          }
        },
        "f848742d9a354c258fcce780816d9d01": {
          "model_module": "@jupyter-widgets/controls",
          "model_name": "FloatProgressModel",
          "model_module_version": "1.5.0",
          "state": {
            "_dom_classes": [],
            "_model_module": "@jupyter-widgets/controls",
            "_model_module_version": "1.5.0",
            "_model_name": "FloatProgressModel",
            "_view_count": null,
            "_view_module": "@jupyter-widgets/controls",
            "_view_module_version": "1.5.0",
            "_view_name": "ProgressView",
            "bar_style": "success",
            "description": "",
            "description_tooltip": null,
            "layout": "IPY_MODEL_5933a1cd0b2049c685597e5703e7572f",
            "max": 148,
            "min": 0,
            "orientation": "horizontal",
            "style": "IPY_MODEL_2664b96b02c447f49ba9a208e1f923c2",
            "value": 148
          }
        },
        "2d9000b2fa7a46b3a727fb1cdceeabd2": {
          "model_module": "@jupyter-widgets/controls",
          "model_name": "HTMLModel",
          "model_module_version": "1.5.0",
          "state": {
            "_dom_classes": [],
            "_model_module": "@jupyter-widgets/controls",
            "_model_module_version": "1.5.0",
            "_model_name": "HTMLModel",
            "_view_count": null,
            "_view_module": "@jupyter-widgets/controls",
            "_view_module_version": "1.5.0",
            "_view_name": "HTMLView",
            "description": "",
            "description_tooltip": null,
            "layout": "IPY_MODEL_8fcd53d9754443c8879551212d2cb457",
            "placeholder": "​",
            "style": "IPY_MODEL_1d646cfac7d74ffa8e35586eccfa4d78",
            "value": " 148/148 [03:35&lt;00:00,  1.10s/it]"
          }
        },
        "42c5446a37b741f393578fd326d1a891": {
          "model_module": "@jupyter-widgets/base",
          "model_name": "LayoutModel",
          "model_module_version": "1.2.0",
          "state": {
            "_model_module": "@jupyter-widgets/base",
            "_model_module_version": "1.2.0",
            "_model_name": "LayoutModel",
            "_view_count": null,
            "_view_module": "@jupyter-widgets/base",
            "_view_module_version": "1.2.0",
            "_view_name": "LayoutView",
            "align_content": null,
            "align_items": null,
            "align_self": null,
            "border": null,
            "bottom": null,
            "display": null,
            "flex": null,
            "flex_flow": null,
            "grid_area": null,
            "grid_auto_columns": null,
            "grid_auto_flow": null,
            "grid_auto_rows": null,
            "grid_column": null,
            "grid_gap": null,
            "grid_row": null,
            "grid_template_areas": null,
            "grid_template_columns": null,
            "grid_template_rows": null,
            "height": null,
            "justify_content": null,
            "justify_items": null,
            "left": null,
            "margin": null,
            "max_height": null,
            "max_width": null,
            "min_height": null,
            "min_width": null,
            "object_fit": null,
            "object_position": null,
            "order": null,
            "overflow": null,
            "overflow_x": null,
            "overflow_y": null,
            "padding": null,
            "right": null,
            "top": null,
            "visibility": null,
            "width": null
          }
        },
        "cca53ad15ee74935ae0075182700a341": {
          "model_module": "@jupyter-widgets/base",
          "model_name": "LayoutModel",
          "model_module_version": "1.2.0",
          "state": {
            "_model_module": "@jupyter-widgets/base",
            "_model_module_version": "1.2.0",
            "_model_name": "LayoutModel",
            "_view_count": null,
            "_view_module": "@jupyter-widgets/base",
            "_view_module_version": "1.2.0",
            "_view_name": "LayoutView",
            "align_content": null,
            "align_items": null,
            "align_self": null,
            "border": null,
            "bottom": null,
            "display": null,
            "flex": null,
            "flex_flow": null,
            "grid_area": null,
            "grid_auto_columns": null,
            "grid_auto_flow": null,
            "grid_auto_rows": null,
            "grid_column": null,
            "grid_gap": null,
            "grid_row": null,
            "grid_template_areas": null,
            "grid_template_columns": null,
            "grid_template_rows": null,
            "height": null,
            "justify_content": null,
            "justify_items": null,
            "left": null,
            "margin": null,
            "max_height": null,
            "max_width": null,
            "min_height": null,
            "min_width": null,
            "object_fit": null,
            "object_position": null,
            "order": null,
            "overflow": null,
            "overflow_x": null,
            "overflow_y": null,
            "padding": null,
            "right": null,
            "top": null,
            "visibility": null,
            "width": null
          }
        },
        "46b7088bcf5e43c8a6fe336a54219b71": {
          "model_module": "@jupyter-widgets/controls",
          "model_name": "DescriptionStyleModel",
          "model_module_version": "1.5.0",
          "state": {
            "_model_module": "@jupyter-widgets/controls",
            "_model_module_version": "1.5.0",
            "_model_name": "DescriptionStyleModel",
            "_view_count": null,
            "_view_module": "@jupyter-widgets/base",
            "_view_module_version": "1.2.0",
            "_view_name": "StyleView",
            "description_width": ""
          }
        },
        "5933a1cd0b2049c685597e5703e7572f": {
          "model_module": "@jupyter-widgets/base",
          "model_name": "LayoutModel",
          "model_module_version": "1.2.0",
          "state": {
            "_model_module": "@jupyter-widgets/base",
            "_model_module_version": "1.2.0",
            "_model_name": "LayoutModel",
            "_view_count": null,
            "_view_module": "@jupyter-widgets/base",
            "_view_module_version": "1.2.0",
            "_view_name": "LayoutView",
            "align_content": null,
            "align_items": null,
            "align_self": null,
            "border": null,
            "bottom": null,
            "display": null,
            "flex": null,
            "flex_flow": null,
            "grid_area": null,
            "grid_auto_columns": null,
            "grid_auto_flow": null,
            "grid_auto_rows": null,
            "grid_column": null,
            "grid_gap": null,
            "grid_row": null,
            "grid_template_areas": null,
            "grid_template_columns": null,
            "grid_template_rows": null,
            "height": null,
            "justify_content": null,
            "justify_items": null,
            "left": null,
            "margin": null,
            "max_height": null,
            "max_width": null,
            "min_height": null,
            "min_width": null,
            "object_fit": null,
            "object_position": null,
            "order": null,
            "overflow": null,
            "overflow_x": null,
            "overflow_y": null,
            "padding": null,
            "right": null,
            "top": null,
            "visibility": null,
            "width": null
          }
        },
        "2664b96b02c447f49ba9a208e1f923c2": {
          "model_module": "@jupyter-widgets/controls",
          "model_name": "ProgressStyleModel",
          "model_module_version": "1.5.0",
          "state": {
            "_model_module": "@jupyter-widgets/controls",
            "_model_module_version": "1.5.0",
            "_model_name": "ProgressStyleModel",
            "_view_count": null,
            "_view_module": "@jupyter-widgets/base",
            "_view_module_version": "1.2.0",
            "_view_name": "StyleView",
            "bar_color": null,
            "description_width": ""
          }
        },
        "8fcd53d9754443c8879551212d2cb457": {
          "model_module": "@jupyter-widgets/base",
          "model_name": "LayoutModel",
          "model_module_version": "1.2.0",
          "state": {
            "_model_module": "@jupyter-widgets/base",
            "_model_module_version": "1.2.0",
            "_model_name": "LayoutModel",
            "_view_count": null,
            "_view_module": "@jupyter-widgets/base",
            "_view_module_version": "1.2.0",
            "_view_name": "LayoutView",
            "align_content": null,
            "align_items": null,
            "align_self": null,
            "border": null,
            "bottom": null,
            "display": null,
            "flex": null,
            "flex_flow": null,
            "grid_area": null,
            "grid_auto_columns": null,
            "grid_auto_flow": null,
            "grid_auto_rows": null,
            "grid_column": null,
            "grid_gap": null,
            "grid_row": null,
            "grid_template_areas": null,
            "grid_template_columns": null,
            "grid_template_rows": null,
            "height": null,
            "justify_content": null,
            "justify_items": null,
            "left": null,
            "margin": null,
            "max_height": null,
            "max_width": null,
            "min_height": null,
            "min_width": null,
            "object_fit": null,
            "object_position": null,
            "order": null,
            "overflow": null,
            "overflow_x": null,
            "overflow_y": null,
            "padding": null,
            "right": null,
            "top": null,
            "visibility": null,
            "width": null
          }
        },
        "1d646cfac7d74ffa8e35586eccfa4d78": {
          "model_module": "@jupyter-widgets/controls",
          "model_name": "DescriptionStyleModel",
          "model_module_version": "1.5.0",
          "state": {
            "_model_module": "@jupyter-widgets/controls",
            "_model_module_version": "1.5.0",
            "_model_name": "DescriptionStyleModel",
            "_view_count": null,
            "_view_module": "@jupyter-widgets/base",
            "_view_module_version": "1.2.0",
            "_view_name": "StyleView",
            "description_width": ""
          }
        }
      }
    }
  },
  "nbformat": 4,
  "nbformat_minor": 0
}